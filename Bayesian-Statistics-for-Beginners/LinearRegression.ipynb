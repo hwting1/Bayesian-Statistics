{
 "cells": [
  {
   "cell_type": "code",
   "execution_count": 1,
   "id": "initial_id",
   "metadata": {
    "ExecuteTime": {
     "end_time": "2024-05-26T12:55:10.553732Z",
     "start_time": "2024-05-26T12:55:08.588679Z"
    },
    "executionInfo": {
     "elapsed": 8,
     "status": "ok",
     "timestamp": 1716712478607,
     "user": {
      "displayName": "Howard Ting",
      "userId": "11297780970646226888"
     },
     "user_tz": -480
    },
    "id": "initial_id"
   },
   "outputs": [],
   "source": [
    "import numpy as np\n",
    "import pandas as pd\n",
    "import pymc as pm\n",
    "import bambi as bmb\n",
    "import arviz as az"
   ]
  },
  {
   "cell_type": "code",
   "execution_count": 2,
   "id": "1659576e207800c8",
   "metadata": {
    "ExecuteTime": {
     "end_time": "2024-05-26T12:55:10.559338Z",
     "start_time": "2024-05-26T12:55:10.554848Z"
    },
    "executionInfo": {
     "elapsed": 7,
     "status": "ok",
     "timestamp": 1716712478607,
     "user": {
      "displayName": "Howard Ting",
      "userId": "11297780970646226888"
     },
     "user_tz": -480
    },
    "id": "1659576e207800c8"
   },
   "outputs": [],
   "source": [
    "success = np.array([33.48, 42.53, 48.53, 30.21, 38.76, 38.59, 52.93, 32.65, 52.42, 22.22, 41.40, 16.28, 40.83, 24.43, 56.38])\n",
    "IQ = np.array([112, 94, 118, 87, 96, 106, 71, 91, 95, 94, 100, 98, 94, 113, 85])\n",
    "years_in_school = np.array([12, 14, 18, 10, 13, 22, 17, 15, 16, 9, 19, 8, 20, 11, 21])\n",
    "grit = np.array([2.2, 3.2, 3.4, 1.8, 2.8, 0.2, 4.4, 1.0, 4.6, 0.4, 1.6, 0.0, 1.2, 0.6, 4.2])\n",
    "data = pd.DataFrame({\n",
    "    'Success': success,\n",
    "    'IQ': IQ,\n",
    "    'Years_in_School': years_in_school,\n",
    "    'Grit': grit\n",
    "})"
   ]
  },
  {
   "cell_type": "markdown",
   "id": "ebe8fa7d-1c2a-45c7-b6d7-128a8a9c0bc5",
   "metadata": {},
   "source": [
    "## Pymc"
   ]
  },
  {
   "cell_type": "code",
   "execution_count": 3,
   "id": "8f134cfdbd6bff37",
   "metadata": {
    "ExecuteTime": {
     "end_time": "2024-05-26T12:55:30.265706Z",
     "start_time": "2024-05-26T12:55:10.560470Z"
    },
    "colab": {
     "base_uri": "https://localhost:8080/",
     "height": 37
    },
    "executionInfo": {
     "elapsed": 14534,
     "status": "ok",
     "timestamp": 1716712493134,
     "user": {
      "displayName": "Howard Ting",
      "userId": "11297780970646226888"
     },
     "user_tz": -480
    },
    "id": "8f134cfdbd6bff37",
    "outputId": "9bf84664-cc98-4bc6-f3f1-821a0aefde69"
   },
   "outputs": [
    {
     "data": {
      "text/html": [
       "\n",
       "<style>\n",
       "    :root {\n",
       "        --column-width-1: 40%; /* Progress column width */\n",
       "        --column-width-2: 15%; /* Chain column width */\n",
       "        --column-width-3: 15%; /* Divergences column width */\n",
       "        --column-width-4: 15%; /* Step Size column width */\n",
       "        --column-width-5: 15%; /* Gradients/Draw column width */\n",
       "    }\n",
       "\n",
       "    .nutpie {\n",
       "        max-width: 800px;\n",
       "        margin: 10px auto;\n",
       "        font-family: 'Segoe UI', Tahoma, Geneva, Verdana, sans-serif;\n",
       "        //color: #333;\n",
       "        //background-color: #fff;\n",
       "        padding: 10px;\n",
       "        box-shadow: 0 4px 6px rgba(0,0,0,0.1);\n",
       "        border-radius: 8px;\n",
       "        font-size: 14px; /* Smaller font size for a more compact look */\n",
       "    }\n",
       "    .nutpie table {\n",
       "        width: 100%;\n",
       "        border-collapse: collapse; /* Remove any extra space between borders */\n",
       "    }\n",
       "    .nutpie th, .nutpie td {\n",
       "        padding: 8px 10px; /* Reduce padding to make table more compact */\n",
       "        text-align: left;\n",
       "        border-bottom: 1px solid #888;\n",
       "    }\n",
       "    .nutpie th {\n",
       "        //background-color: #f0f0f0;\n",
       "    }\n",
       "\n",
       "    .nutpie th:nth-child(1) { width: var(--column-width-1); }\n",
       "    .nutpie th:nth-child(2) { width: var(--column-width-2); }\n",
       "    .nutpie th:nth-child(3) { width: var(--column-width-3); }\n",
       "    .nutpie th:nth-child(4) { width: var(--column-width-4); }\n",
       "    .nutpie th:nth-child(5) { width: var(--column-width-5); }\n",
       "\n",
       "    .nutpie progress {\n",
       "        width: 100%;\n",
       "        height: 15px; /* Smaller progress bars */\n",
       "        border-radius: 5px;\n",
       "    }\n",
       "    progress::-webkit-progress-bar {\n",
       "        background-color: #eee;\n",
       "        border-radius: 5px;\n",
       "    }\n",
       "    progress::-webkit-progress-value {\n",
       "        background-color: #5cb85c;\n",
       "        border-radius: 5px;\n",
       "    }\n",
       "    progress::-moz-progress-bar {\n",
       "        background-color: #5cb85c;\n",
       "        border-radius: 5px;\n",
       "    }\n",
       "    .nutpie .progress-cell {\n",
       "        width: 100%;\n",
       "    }\n",
       "\n",
       "    .nutpie p strong { font-size: 16px; font-weight: bold; }\n",
       "\n",
       "    @media (prefers-color-scheme: dark) {\n",
       "        .nutpie {\n",
       "            //color: #ddd;\n",
       "            //background-color: #1e1e1e;\n",
       "            box-shadow: 0 4px 6px rgba(0,0,0,0.2);\n",
       "        }\n",
       "        .nutpie table, .nutpie th, .nutpie td {\n",
       "            border-color: #555;\n",
       "            color: #ccc;\n",
       "        }\n",
       "        .nutpie th {\n",
       "            background-color: #2a2a2a;\n",
       "        }\n",
       "        .nutpie progress::-webkit-progress-bar {\n",
       "            background-color: #444;\n",
       "        }\n",
       "        .nutpie progress::-webkit-progress-value {\n",
       "            background-color: #3178c6;\n",
       "        }\n",
       "        .nutpie progress::-moz-progress-bar {\n",
       "            background-color: #3178c6;\n",
       "        }\n",
       "    }\n",
       "</style>\n"
      ],
      "text/plain": [
       "<IPython.core.display.HTML object>"
      ]
     },
     "metadata": {},
     "output_type": "display_data"
    },
    {
     "data": {
      "text/html": [
       "\n",
       "<div class=\"nutpie\">\n",
       "    <p><strong>Sampler Progress</strong></p>\n",
       "    <p>Total Chains: <span id=\"total-chains\">1</span></p>\n",
       "    <p>Active Chains: <span id=\"active-chains\">0</span></p>\n",
       "    <p>\n",
       "        Finished Chains:\n",
       "        <span id=\"active-chains\">1</span>\n",
       "    </p>\n",
       "    <p>Sampling for now</p>\n",
       "    <p>\n",
       "        Estimated Time to Completion:\n",
       "        <span id=\"eta\">now</span>\n",
       "    </p>\n",
       "\n",
       "    <progress\n",
       "        id=\"total-progress-bar\"\n",
       "        max=\"30000\"\n",
       "        value=\"30000\">\n",
       "    </progress>\n",
       "    <table>\n",
       "        <thead>\n",
       "            <tr>\n",
       "                <th>Progress</th>\n",
       "                <th>Draws</th>\n",
       "                <th>Divergences</th>\n",
       "                <th>Step Size</th>\n",
       "                <th>Gradients/Draw</th>\n",
       "            </tr>\n",
       "        </thead>\n",
       "        <tbody id=\"chain-details\">\n",
       "            \n",
       "                <tr>\n",
       "                    <td class=\"progress-cell\">\n",
       "                        <progress\n",
       "                            max=\"30000\"\n",
       "                            value=\"30000\">\n",
       "                        </progress>\n",
       "                    </td>\n",
       "                    <td>30000</td>\n",
       "                    <td>0</td>\n",
       "                    <td>0.53</td>\n",
       "                    <td>7</td>\n",
       "                </tr>\n",
       "            \n",
       "            </tr>\n",
       "        </tbody>\n",
       "    </table>\n",
       "</div>\n"
      ],
      "text/plain": [
       "<nutpie.sample._BackgroundSampler at 0x72265eb43c90>"
      ]
     },
     "metadata": {},
     "output_type": "display_data"
    }
   ],
   "source": [
    "with pm.Model() as lr_model_1:\n",
    "    b_0 = pm.Normal('intercept', mu=0, tau=0.0001)\n",
    "    b_1 = pm.Normal('years_in_school', mu=0, tau=0.0001)\n",
    "    tau = pm.Gamma('success_tau', alpha=0.01, beta=0.01)\n",
    "\n",
    "    mu = b_0 + b_1 * years_in_school\n",
    "    obs = pm.Normal('observation', mu=mu, tau=tau, observed=success)\n",
    "    step = pm.NUTS()\n",
    "    trace1 = pm.sample(25000, step=step, tune=5000, chains=1, nuts_sampler=\"nutpie\")"
   ]
  },
  {
   "cell_type": "code",
   "execution_count": 4,
   "id": "WPb--OZU9xGd",
   "metadata": {
    "ExecuteTime": {
     "end_time": "2024-05-26T12:55:31.071423Z",
     "start_time": "2024-05-26T12:55:30.268338Z"
    },
    "colab": {
     "base_uri": "https://localhost:8080/",
     "height": 192
    },
    "executionInfo": {
     "elapsed": 9,
     "status": "ok",
     "timestamp": 1716712493134,
     "user": {
      "displayName": "Howard Ting",
      "userId": "11297780970646226888"
     },
     "user_tz": -480
    },
    "id": "WPb--OZU9xGd",
    "outputId": "f35a2ac9-ba34-4534-c72f-af7d2f9a4355"
   },
   "outputs": [
    {
     "name": "stderr",
     "output_type": "stream",
     "text": [
      "arviz - WARNING - Shape validation failed: input_shape: (1, 25000), minimum_shape: (chains=2, draws=4)\n"
     ]
    },
    {
     "data": {
      "text/html": [
       "<div>\n",
       "<style scoped>\n",
       "    .dataframe tbody tr th:only-of-type {\n",
       "        vertical-align: middle;\n",
       "    }\n",
       "\n",
       "    .dataframe tbody tr th {\n",
       "        vertical-align: top;\n",
       "    }\n",
       "\n",
       "    .dataframe thead th {\n",
       "        text-align: right;\n",
       "    }\n",
       "</style>\n",
       "<table border=\"1\" class=\"dataframe\">\n",
       "  <thead>\n",
       "    <tr style=\"text-align: right;\">\n",
       "      <th></th>\n",
       "      <th>mean</th>\n",
       "      <th>sd</th>\n",
       "      <th>hdi_3%</th>\n",
       "      <th>hdi_97%</th>\n",
       "      <th>mcse_mean</th>\n",
       "      <th>mcse_sd</th>\n",
       "      <th>ess_bulk</th>\n",
       "      <th>ess_tail</th>\n",
       "      <th>r_hat</th>\n",
       "    </tr>\n",
       "  </thead>\n",
       "  <tbody>\n",
       "    <tr>\n",
       "      <th>intercept</th>\n",
       "      <td>7.597</td>\n",
       "      <td>7.862</td>\n",
       "      <td>-7.056</td>\n",
       "      <td>22.651</td>\n",
       "      <td>0.113</td>\n",
       "      <td>0.080</td>\n",
       "      <td>4969.0</td>\n",
       "      <td>5542.0</td>\n",
       "      <td>NaN</td>\n",
       "    </tr>\n",
       "    <tr>\n",
       "      <th>success_tau</th>\n",
       "      <td>0.016</td>\n",
       "      <td>0.006</td>\n",
       "      <td>0.006</td>\n",
       "      <td>0.028</td>\n",
       "      <td>0.000</td>\n",
       "      <td>0.000</td>\n",
       "      <td>10824.0</td>\n",
       "      <td>10731.0</td>\n",
       "      <td>NaN</td>\n",
       "    </tr>\n",
       "    <tr>\n",
       "      <th>success_tau_log__</th>\n",
       "      <td>-4.189</td>\n",
       "      <td>0.406</td>\n",
       "      <td>-4.973</td>\n",
       "      <td>-3.458</td>\n",
       "      <td>0.004</td>\n",
       "      <td>0.003</td>\n",
       "      <td>10824.0</td>\n",
       "      <td>10731.0</td>\n",
       "      <td>NaN</td>\n",
       "    </tr>\n",
       "    <tr>\n",
       "      <th>years_in_school</th>\n",
       "      <td>2.033</td>\n",
       "      <td>0.503</td>\n",
       "      <td>1.072</td>\n",
       "      <td>2.986</td>\n",
       "      <td>0.007</td>\n",
       "      <td>0.005</td>\n",
       "      <td>4994.0</td>\n",
       "      <td>5801.0</td>\n",
       "      <td>NaN</td>\n",
       "    </tr>\n",
       "  </tbody>\n",
       "</table>\n",
       "</div>"
      ],
      "text/plain": [
       "                    mean     sd  hdi_3%  hdi_97%  mcse_mean  mcse_sd  \\\n",
       "intercept          7.597  7.862  -7.056   22.651      0.113    0.080   \n",
       "success_tau        0.016  0.006   0.006    0.028      0.000    0.000   \n",
       "success_tau_log__ -4.189  0.406  -4.973   -3.458      0.004    0.003   \n",
       "years_in_school    2.033  0.503   1.072    2.986      0.007    0.005   \n",
       "\n",
       "                   ess_bulk  ess_tail  r_hat  \n",
       "intercept            4969.0    5542.0    NaN  \n",
       "success_tau         10824.0   10731.0    NaN  \n",
       "success_tau_log__   10824.0   10731.0    NaN  \n",
       "years_in_school      4994.0    5801.0    NaN  "
      ]
     },
     "execution_count": 4,
     "metadata": {},
     "output_type": "execute_result"
    }
   ],
   "source": [
    "az.summary(trace1)"
   ]
  },
  {
   "cell_type": "code",
   "execution_count": 5,
   "id": "ab79980c-4b1f-45fc-b985-9726b8ab9fef",
   "metadata": {},
   "outputs": [
    {
     "data": {
      "image/svg+xml": [
       "<?xml version=\"1.0\" encoding=\"UTF-8\" standalone=\"no\"?>\n",
       "<!DOCTYPE svg PUBLIC \"-//W3C//DTD SVG 1.1//EN\"\n",
       " \"http://www.w3.org/Graphics/SVG/1.1/DTD/svg11.dtd\">\n",
       "<!-- Generated by graphviz version 2.43.0 (0)\n",
       " -->\n",
       "<!-- Title: %3 Pages: 1 -->\n",
       "<svg width=\"483pt\" height=\"233pt\"\n",
       " viewBox=\"0.00 0.00 483.40 232.91\" xmlns=\"http://www.w3.org/2000/svg\" xmlns:xlink=\"http://www.w3.org/1999/xlink\">\n",
       "<g id=\"graph0\" class=\"graph\" transform=\"scale(1 1) rotate(0) translate(4 228.91)\">\n",
       "<title>%3</title>\n",
       "<polygon fill=\"white\" stroke=\"transparent\" points=\"-4,4 -4,-228.91 479.4,-228.91 479.4,4 -4,4\"/>\n",
       "<g id=\"clust1\" class=\"cluster\">\n",
       "<title>cluster15</title>\n",
       "<path fill=\"none\" stroke=\"black\" d=\"M184.42,-8C184.42,-8 318.42,-8 318.42,-8 324.42,-8 330.42,-14 330.42,-20 330.42,-20 330.42,-109.95 330.42,-109.95 330.42,-115.95 324.42,-121.95 318.42,-121.95 318.42,-121.95 184.42,-121.95 184.42,-121.95 178.42,-121.95 172.42,-115.95 172.42,-109.95 172.42,-109.95 172.42,-20 172.42,-20 172.42,-14 178.42,-8 184.42,-8\"/>\n",
       "<text text-anchor=\"middle\" x=\"312.92\" y=\"-15.8\" font-family=\"Times,serif\" font-size=\"14.00\">15</text>\n",
       "</g>\n",
       "<!-- success_tau -->\n",
       "<g id=\"node1\" class=\"node\">\n",
       "<title>success_tau</title>\n",
       "<ellipse fill=\"none\" stroke=\"black\" cx=\"71.42\" cy=\"-187.43\" rx=\"71.34\" ry=\"37.45\"/>\n",
       "<text text-anchor=\"middle\" x=\"71.42\" y=\"-198.73\" font-family=\"Times,serif\" font-size=\"14.00\">success_tau</text>\n",
       "<text text-anchor=\"middle\" x=\"71.42\" y=\"-183.73\" font-family=\"Times,serif\" font-size=\"14.00\">~</text>\n",
       "<text text-anchor=\"middle\" x=\"71.42\" y=\"-168.73\" font-family=\"Times,serif\" font-size=\"14.00\">Gamma</text>\n",
       "</g>\n",
       "<!-- observation -->\n",
       "<g id=\"node4\" class=\"node\">\n",
       "<title>observation</title>\n",
       "<ellipse fill=\"lightgrey\" stroke=\"black\" cx=\"251.42\" cy=\"-76.48\" rx=\"71.34\" ry=\"37.45\"/>\n",
       "<text text-anchor=\"middle\" x=\"251.42\" y=\"-87.78\" font-family=\"Times,serif\" font-size=\"14.00\">observation</text>\n",
       "<text text-anchor=\"middle\" x=\"251.42\" y=\"-72.78\" font-family=\"Times,serif\" font-size=\"14.00\">~</text>\n",
       "<text text-anchor=\"middle\" x=\"251.42\" y=\"-57.78\" font-family=\"Times,serif\" font-size=\"14.00\">Normal</text>\n",
       "</g>\n",
       "<!-- success_tau&#45;&gt;observation -->\n",
       "<g id=\"edge1\" class=\"edge\">\n",
       "<title>success_tau&#45;&gt;observation</title>\n",
       "<path fill=\"none\" stroke=\"black\" d=\"M117.31,-158.65C141.44,-144.05 171.19,-126.04 196.54,-110.7\"/>\n",
       "<polygon fill=\"black\" stroke=\"black\" points=\"198.56,-113.56 205.3,-105.39 194.93,-107.57 198.56,-113.56\"/>\n",
       "</g>\n",
       "<!-- years_in_school -->\n",
       "<g id=\"node2\" class=\"node\">\n",
       "<title>years_in_school</title>\n",
       "<ellipse fill=\"none\" stroke=\"black\" cx=\"251.42\" cy=\"-187.43\" rx=\"90.52\" ry=\"37.45\"/>\n",
       "<text text-anchor=\"middle\" x=\"251.42\" y=\"-198.73\" font-family=\"Times,serif\" font-size=\"14.00\">years_in_school</text>\n",
       "<text text-anchor=\"middle\" x=\"251.42\" y=\"-183.73\" font-family=\"Times,serif\" font-size=\"14.00\">~</text>\n",
       "<text text-anchor=\"middle\" x=\"251.42\" y=\"-168.73\" font-family=\"Times,serif\" font-size=\"14.00\">Normal</text>\n",
       "</g>\n",
       "<!-- years_in_school&#45;&gt;observation -->\n",
       "<g id=\"edge2\" class=\"edge\">\n",
       "<title>years_in_school&#45;&gt;observation</title>\n",
       "<path fill=\"none\" stroke=\"black\" d=\"M251.42,-149.85C251.42,-141.67 251.42,-132.89 251.42,-124.37\"/>\n",
       "<polygon fill=\"black\" stroke=\"black\" points=\"254.92,-124.15 251.42,-114.15 247.92,-124.15 254.92,-124.15\"/>\n",
       "</g>\n",
       "<!-- intercept -->\n",
       "<g id=\"node3\" class=\"node\">\n",
       "<title>intercept</title>\n",
       "<ellipse fill=\"none\" stroke=\"black\" cx=\"417.42\" cy=\"-187.43\" rx=\"57.97\" ry=\"37.45\"/>\n",
       "<text text-anchor=\"middle\" x=\"417.42\" y=\"-198.73\" font-family=\"Times,serif\" font-size=\"14.00\">intercept</text>\n",
       "<text text-anchor=\"middle\" x=\"417.42\" y=\"-183.73\" font-family=\"Times,serif\" font-size=\"14.00\">~</text>\n",
       "<text text-anchor=\"middle\" x=\"417.42\" y=\"-168.73\" font-family=\"Times,serif\" font-size=\"14.00\">Normal</text>\n",
       "</g>\n",
       "<!-- intercept&#45;&gt;observation -->\n",
       "<g id=\"edge3\" class=\"edge\">\n",
       "<title>intercept&#45;&gt;observation</title>\n",
       "<path fill=\"none\" stroke=\"black\" d=\"M377.23,-160.06C355.19,-145.58 327.59,-127.47 303.86,-111.9\"/>\n",
       "<polygon fill=\"black\" stroke=\"black\" points=\"305.59,-108.85 295.31,-106.29 301.75,-114.7 305.59,-108.85\"/>\n",
       "</g>\n",
       "</g>\n",
       "</svg>\n"
      ],
      "text/plain": [
       "<graphviz.graphs.Digraph at 0x722654ce2c10>"
      ]
     },
     "execution_count": 5,
     "metadata": {},
     "output_type": "execute_result"
    }
   ],
   "source": [
    "graphviz = pm.model_to_graphviz(lr_model_1)\n",
    "graphviz"
   ]
  },
  {
   "cell_type": "code",
   "execution_count": 6,
   "id": "90d87c7d-f1b0-40c1-b21d-b9f41b457ce9",
   "metadata": {},
   "outputs": [
    {
     "data": {
      "application/vnd.jupyter.widget-view+json": {
       "model_id": "e3f147985e8a489b925a68d734179f08",
       "version_major": 2,
       "version_minor": 0
      },
      "text/plain": [
       "Output()"
      ]
     },
     "metadata": {},
     "output_type": "display_data"
    },
    {
     "data": {
      "text/html": [
       "<pre style=\"white-space:pre;overflow-x:auto;line-height:normal;font-family:Menlo,'DejaVu Sans Mono',consolas,'Courier New',monospace\"></pre>\n"
      ],
      "text/plain": []
     },
     "metadata": {},
     "output_type": "display_data"
    }
   ],
   "source": [
    "with lr_model_1:\n",
    "    pm.compute_log_likelihood(trace1)"
   ]
  },
  {
   "cell_type": "code",
   "execution_count": 7,
   "id": "cf00dc5c-ad01-4c11-b7c2-2b6b0e7e78ca",
   "metadata": {},
   "outputs": [
    {
     "data": {
      "text/plain": [
       "Computed from 25000 posterior samples and 15 observations log-likelihood matrix.\n",
       "\n",
       "         Estimate       SE\n",
       "elpd_loo   -54.34     2.31\n",
       "p_loo        2.70        -\n",
       "------\n",
       "\n",
       "Pareto k diagnostic values:\n",
       "                         Count   Pct.\n",
       "(-Inf, 0.70]   (good)       15  100.0%\n",
       "   (0.70, 1]   (bad)         0    0.0%\n",
       "   (1, Inf)   (very bad)    0    0.0%"
      ]
     },
     "execution_count": 7,
     "metadata": {},
     "output_type": "execute_result"
    }
   ],
   "source": [
    "az.loo(trace1)"
   ]
  },
  {
   "cell_type": "code",
   "execution_count": 8,
   "id": "f5a5bcd6-27f8-4ff2-8468-c949f8a6dcf4",
   "metadata": {},
   "outputs": [
    {
     "name": "stderr",
     "output_type": "stream",
     "text": [
      "/home/hwting/anaconda3/envs/rapids-24.12/lib/python3.11/site-packages/arviz/stats/stats.py:1653: UserWarning: For one or more samples the posterior variance of the log predictive densities exceeds 0.4. This could be indication of WAIC starting to fail. \n",
      "See http://arxiv.org/abs/1507.04544 for details\n",
      "  warnings.warn(\n"
     ]
    },
    {
     "data": {
      "text/plain": [
       "Computed from 25000 posterior samples and 15 observations log-likelihood matrix.\n",
       "\n",
       "          Estimate       SE\n",
       "elpd_waic   -54.15     2.19\n",
       "p_waic        2.50        -\n",
       "\n",
       "There has been a warning during the calculation. Please check the results."
      ]
     },
     "execution_count": 8,
     "metadata": {},
     "output_type": "execute_result"
    }
   ],
   "source": [
    "az.waic(trace1)"
   ]
  },
  {
   "cell_type": "code",
   "execution_count": 9,
   "id": "6e2e2d1f-4b7f-4bbf-9d0a-6a9555c21f7a",
   "metadata": {},
   "outputs": [
    {
     "data": {
      "text/html": [
       "\n",
       "<style>\n",
       "    :root {\n",
       "        --column-width-1: 40%; /* Progress column width */\n",
       "        --column-width-2: 15%; /* Chain column width */\n",
       "        --column-width-3: 15%; /* Divergences column width */\n",
       "        --column-width-4: 15%; /* Step Size column width */\n",
       "        --column-width-5: 15%; /* Gradients/Draw column width */\n",
       "    }\n",
       "\n",
       "    .nutpie {\n",
       "        max-width: 800px;\n",
       "        margin: 10px auto;\n",
       "        font-family: 'Segoe UI', Tahoma, Geneva, Verdana, sans-serif;\n",
       "        //color: #333;\n",
       "        //background-color: #fff;\n",
       "        padding: 10px;\n",
       "        box-shadow: 0 4px 6px rgba(0,0,0,0.1);\n",
       "        border-radius: 8px;\n",
       "        font-size: 14px; /* Smaller font size for a more compact look */\n",
       "    }\n",
       "    .nutpie table {\n",
       "        width: 100%;\n",
       "        border-collapse: collapse; /* Remove any extra space between borders */\n",
       "    }\n",
       "    .nutpie th, .nutpie td {\n",
       "        padding: 8px 10px; /* Reduce padding to make table more compact */\n",
       "        text-align: left;\n",
       "        border-bottom: 1px solid #888;\n",
       "    }\n",
       "    .nutpie th {\n",
       "        //background-color: #f0f0f0;\n",
       "    }\n",
       "\n",
       "    .nutpie th:nth-child(1) { width: var(--column-width-1); }\n",
       "    .nutpie th:nth-child(2) { width: var(--column-width-2); }\n",
       "    .nutpie th:nth-child(3) { width: var(--column-width-3); }\n",
       "    .nutpie th:nth-child(4) { width: var(--column-width-4); }\n",
       "    .nutpie th:nth-child(5) { width: var(--column-width-5); }\n",
       "\n",
       "    .nutpie progress {\n",
       "        width: 100%;\n",
       "        height: 15px; /* Smaller progress bars */\n",
       "        border-radius: 5px;\n",
       "    }\n",
       "    progress::-webkit-progress-bar {\n",
       "        background-color: #eee;\n",
       "        border-radius: 5px;\n",
       "    }\n",
       "    progress::-webkit-progress-value {\n",
       "        background-color: #5cb85c;\n",
       "        border-radius: 5px;\n",
       "    }\n",
       "    progress::-moz-progress-bar {\n",
       "        background-color: #5cb85c;\n",
       "        border-radius: 5px;\n",
       "    }\n",
       "    .nutpie .progress-cell {\n",
       "        width: 100%;\n",
       "    }\n",
       "\n",
       "    .nutpie p strong { font-size: 16px; font-weight: bold; }\n",
       "\n",
       "    @media (prefers-color-scheme: dark) {\n",
       "        .nutpie {\n",
       "            //color: #ddd;\n",
       "            //background-color: #1e1e1e;\n",
       "            box-shadow: 0 4px 6px rgba(0,0,0,0.2);\n",
       "        }\n",
       "        .nutpie table, .nutpie th, .nutpie td {\n",
       "            border-color: #555;\n",
       "            color: #ccc;\n",
       "        }\n",
       "        .nutpie th {\n",
       "            background-color: #2a2a2a;\n",
       "        }\n",
       "        .nutpie progress::-webkit-progress-bar {\n",
       "            background-color: #444;\n",
       "        }\n",
       "        .nutpie progress::-webkit-progress-value {\n",
       "            background-color: #3178c6;\n",
       "        }\n",
       "        .nutpie progress::-moz-progress-bar {\n",
       "            background-color: #3178c6;\n",
       "        }\n",
       "    }\n",
       "</style>\n"
      ],
      "text/plain": [
       "<IPython.core.display.HTML object>"
      ]
     },
     "metadata": {},
     "output_type": "display_data"
    },
    {
     "data": {
      "text/html": [
       "\n",
       "<div class=\"nutpie\">\n",
       "    <p><strong>Sampler Progress</strong></p>\n",
       "    <p>Total Chains: <span id=\"total-chains\">1</span></p>\n",
       "    <p>Active Chains: <span id=\"active-chains\">0</span></p>\n",
       "    <p>\n",
       "        Finished Chains:\n",
       "        <span id=\"active-chains\">1</span>\n",
       "    </p>\n",
       "    <p>Sampling for now</p>\n",
       "    <p>\n",
       "        Estimated Time to Completion:\n",
       "        <span id=\"eta\">now</span>\n",
       "    </p>\n",
       "\n",
       "    <progress\n",
       "        id=\"total-progress-bar\"\n",
       "        max=\"30000\"\n",
       "        value=\"30000\">\n",
       "    </progress>\n",
       "    <table>\n",
       "        <thead>\n",
       "            <tr>\n",
       "                <th>Progress</th>\n",
       "                <th>Draws</th>\n",
       "                <th>Divergences</th>\n",
       "                <th>Step Size</th>\n",
       "                <th>Gradients/Draw</th>\n",
       "            </tr>\n",
       "        </thead>\n",
       "        <tbody id=\"chain-details\">\n",
       "            \n",
       "                <tr>\n",
       "                    <td class=\"progress-cell\">\n",
       "                        <progress\n",
       "                            max=\"30000\"\n",
       "                            value=\"30000\">\n",
       "                        </progress>\n",
       "                    </td>\n",
       "                    <td>30000</td>\n",
       "                    <td>0</td>\n",
       "                    <td>0.64</td>\n",
       "                    <td>3</td>\n",
       "                </tr>\n",
       "            \n",
       "            </tr>\n",
       "        </tbody>\n",
       "    </table>\n",
       "</div>\n"
      ],
      "text/plain": [
       "<nutpie.sample._BackgroundSampler at 0x72265fc44fd0>"
      ]
     },
     "metadata": {},
     "output_type": "display_data"
    }
   ],
   "source": [
    "with pm.Model() as lr_model_2:\n",
    "    b_0 = pm.Normal('intercept', mu=0, tau=0.0001)\n",
    "    b_1 = pm.Normal('grit', mu=0, tau=0.0001)\n",
    "    tau = pm.Gamma('success_tau', alpha=0.01, beta=0.01)\n",
    "\n",
    "    mu = b_0 + b_1 * grit\n",
    "    obs = pm.Normal('observation', mu=mu, tau=tau, observed=success)\n",
    "    step = pm.NUTS()\n",
    "    trace2 = pm.sample(25000, step=step, tune=5000, chains=1, nuts_sampler=\"nutpie\")"
   ]
  },
  {
   "cell_type": "code",
   "execution_count": 10,
   "id": "4cba87c5-9359-4f3b-b9ac-d3476e180ecb",
   "metadata": {},
   "outputs": [
    {
     "name": "stderr",
     "output_type": "stream",
     "text": [
      "arviz - WARNING - Shape validation failed: input_shape: (1, 25000), minimum_shape: (chains=2, draws=4)\n"
     ]
    },
    {
     "data": {
      "text/html": [
       "<div>\n",
       "<style scoped>\n",
       "    .dataframe tbody tr th:only-of-type {\n",
       "        vertical-align: middle;\n",
       "    }\n",
       "\n",
       "    .dataframe tbody tr th {\n",
       "        vertical-align: top;\n",
       "    }\n",
       "\n",
       "    .dataframe thead th {\n",
       "        text-align: right;\n",
       "    }\n",
       "</style>\n",
       "<table border=\"1\" class=\"dataframe\">\n",
       "  <thead>\n",
       "    <tr style=\"text-align: right;\">\n",
       "      <th></th>\n",
       "      <th>mean</th>\n",
       "      <th>sd</th>\n",
       "      <th>hdi_3%</th>\n",
       "      <th>hdi_97%</th>\n",
       "      <th>mcse_mean</th>\n",
       "      <th>mcse_sd</th>\n",
       "      <th>ess_bulk</th>\n",
       "      <th>ess_tail</th>\n",
       "      <th>r_hat</th>\n",
       "    </tr>\n",
       "  </thead>\n",
       "  <tbody>\n",
       "    <tr>\n",
       "      <th>grit</th>\n",
       "      <td>6.403</td>\n",
       "      <td>1.142</td>\n",
       "      <td>4.256</td>\n",
       "      <td>8.581</td>\n",
       "      <td>0.012</td>\n",
       "      <td>0.008</td>\n",
       "      <td>9619.0</td>\n",
       "      <td>10579.0</td>\n",
       "      <td>NaN</td>\n",
       "    </tr>\n",
       "    <tr>\n",
       "      <th>intercept</th>\n",
       "      <td>24.613</td>\n",
       "      <td>2.955</td>\n",
       "      <td>18.939</td>\n",
       "      <td>30.178</td>\n",
       "      <td>0.031</td>\n",
       "      <td>0.022</td>\n",
       "      <td>9210.0</td>\n",
       "      <td>11450.0</td>\n",
       "      <td>NaN</td>\n",
       "    </tr>\n",
       "    <tr>\n",
       "      <th>success_tau</th>\n",
       "      <td>0.026</td>\n",
       "      <td>0.010</td>\n",
       "      <td>0.009</td>\n",
       "      <td>0.045</td>\n",
       "      <td>0.000</td>\n",
       "      <td>0.000</td>\n",
       "      <td>11364.0</td>\n",
       "      <td>10583.0</td>\n",
       "      <td>NaN</td>\n",
       "    </tr>\n",
       "    <tr>\n",
       "      <th>success_tau_log__</th>\n",
       "      <td>-3.731</td>\n",
       "      <td>0.405</td>\n",
       "      <td>-4.529</td>\n",
       "      <td>-3.024</td>\n",
       "      <td>0.004</td>\n",
       "      <td>0.003</td>\n",
       "      <td>11364.0</td>\n",
       "      <td>10583.0</td>\n",
       "      <td>NaN</td>\n",
       "    </tr>\n",
       "  </tbody>\n",
       "</table>\n",
       "</div>"
      ],
      "text/plain": [
       "                     mean     sd  hdi_3%  hdi_97%  mcse_mean  mcse_sd  \\\n",
       "grit                6.403  1.142   4.256    8.581      0.012    0.008   \n",
       "intercept          24.613  2.955  18.939   30.178      0.031    0.022   \n",
       "success_tau         0.026  0.010   0.009    0.045      0.000    0.000   \n",
       "success_tau_log__  -3.731  0.405  -4.529   -3.024      0.004    0.003   \n",
       "\n",
       "                   ess_bulk  ess_tail  r_hat  \n",
       "grit                 9619.0   10579.0    NaN  \n",
       "intercept            9210.0   11450.0    NaN  \n",
       "success_tau         11364.0   10583.0    NaN  \n",
       "success_tau_log__   11364.0   10583.0    NaN  "
      ]
     },
     "execution_count": 10,
     "metadata": {},
     "output_type": "execute_result"
    }
   ],
   "source": [
    "az.summary(trace2)"
   ]
  },
  {
   "cell_type": "code",
   "execution_count": 11,
   "id": "8975d0b1-73df-4163-94ba-f883a8a66e26",
   "metadata": {},
   "outputs": [
    {
     "data": {
      "image/svg+xml": [
       "<?xml version=\"1.0\" encoding=\"UTF-8\" standalone=\"no\"?>\n",
       "<!DOCTYPE svg PUBLIC \"-//W3C//DTD SVG 1.1//EN\"\n",
       " \"http://www.w3.org/Graphics/SVG/1.1/DTD/svg11.dtd\">\n",
       "<!-- Generated by graphviz version 2.43.0 (0)\n",
       " -->\n",
       "<!-- Title: %3 Pages: 1 -->\n",
       "<svg width=\"401pt\" height=\"233pt\"\n",
       " viewBox=\"0.00 0.00 401.40 232.91\" xmlns=\"http://www.w3.org/2000/svg\" xmlns:xlink=\"http://www.w3.org/1999/xlink\">\n",
       "<g id=\"graph0\" class=\"graph\" transform=\"scale(1 1) rotate(0) translate(4 228.91)\">\n",
       "<title>%3</title>\n",
       "<polygon fill=\"white\" stroke=\"transparent\" points=\"-4,4 -4,-228.91 397.4,-228.91 397.4,4 -4,4\"/>\n",
       "<g id=\"clust1\" class=\"cluster\">\n",
       "<title>cluster15</title>\n",
       "<path fill=\"none\" stroke=\"black\" d=\"M143.42,-8C143.42,-8 277.42,-8 277.42,-8 283.42,-8 289.42,-14 289.42,-20 289.42,-20 289.42,-109.95 289.42,-109.95 289.42,-115.95 283.42,-121.95 277.42,-121.95 277.42,-121.95 143.42,-121.95 143.42,-121.95 137.42,-121.95 131.42,-115.95 131.42,-109.95 131.42,-109.95 131.42,-20 131.42,-20 131.42,-14 137.42,-8 143.42,-8\"/>\n",
       "<text text-anchor=\"middle\" x=\"271.92\" y=\"-15.8\" font-family=\"Times,serif\" font-size=\"14.00\">15</text>\n",
       "</g>\n",
       "<!-- success_tau -->\n",
       "<g id=\"node1\" class=\"node\">\n",
       "<title>success_tau</title>\n",
       "<ellipse fill=\"none\" stroke=\"black\" cx=\"71.42\" cy=\"-187.43\" rx=\"71.34\" ry=\"37.45\"/>\n",
       "<text text-anchor=\"middle\" x=\"71.42\" y=\"-198.73\" font-family=\"Times,serif\" font-size=\"14.00\">success_tau</text>\n",
       "<text text-anchor=\"middle\" x=\"71.42\" y=\"-183.73\" font-family=\"Times,serif\" font-size=\"14.00\">~</text>\n",
       "<text text-anchor=\"middle\" x=\"71.42\" y=\"-168.73\" font-family=\"Times,serif\" font-size=\"14.00\">Gamma</text>\n",
       "</g>\n",
       "<!-- observation -->\n",
       "<g id=\"node4\" class=\"node\">\n",
       "<title>observation</title>\n",
       "<ellipse fill=\"lightgrey\" stroke=\"black\" cx=\"210.42\" cy=\"-76.48\" rx=\"71.34\" ry=\"37.45\"/>\n",
       "<text text-anchor=\"middle\" x=\"210.42\" y=\"-87.78\" font-family=\"Times,serif\" font-size=\"14.00\">observation</text>\n",
       "<text text-anchor=\"middle\" x=\"210.42\" y=\"-72.78\" font-family=\"Times,serif\" font-size=\"14.00\">~</text>\n",
       "<text text-anchor=\"middle\" x=\"210.42\" y=\"-57.78\" font-family=\"Times,serif\" font-size=\"14.00\">Normal</text>\n",
       "</g>\n",
       "<!-- success_tau&#45;&gt;observation -->\n",
       "<g id=\"edge1\" class=\"edge\">\n",
       "<title>success_tau&#45;&gt;observation</title>\n",
       "<path fill=\"none\" stroke=\"black\" d=\"M110.51,-155.79C126.79,-143.03 145.85,-128.08 162.93,-114.7\"/>\n",
       "<polygon fill=\"black\" stroke=\"black\" points=\"165.43,-117.19 171.14,-108.26 161.11,-111.68 165.43,-117.19\"/>\n",
       "</g>\n",
       "<!-- grit -->\n",
       "<g id=\"node2\" class=\"node\">\n",
       "<title>grit</title>\n",
       "<ellipse fill=\"none\" stroke=\"black\" cx=\"210.42\" cy=\"-187.43\" rx=\"49.49\" ry=\"37.45\"/>\n",
       "<text text-anchor=\"middle\" x=\"210.42\" y=\"-198.73\" font-family=\"Times,serif\" font-size=\"14.00\">grit</text>\n",
       "<text text-anchor=\"middle\" x=\"210.42\" y=\"-183.73\" font-family=\"Times,serif\" font-size=\"14.00\">~</text>\n",
       "<text text-anchor=\"middle\" x=\"210.42\" y=\"-168.73\" font-family=\"Times,serif\" font-size=\"14.00\">Normal</text>\n",
       "</g>\n",
       "<!-- grit&#45;&gt;observation -->\n",
       "<g id=\"edge2\" class=\"edge\">\n",
       "<title>grit&#45;&gt;observation</title>\n",
       "<path fill=\"none\" stroke=\"black\" d=\"M210.42,-149.85C210.42,-141.67 210.42,-132.89 210.42,-124.37\"/>\n",
       "<polygon fill=\"black\" stroke=\"black\" points=\"213.92,-124.15 210.42,-114.15 206.92,-124.15 213.92,-124.15\"/>\n",
       "</g>\n",
       "<!-- intercept -->\n",
       "<g id=\"node3\" class=\"node\">\n",
       "<title>intercept</title>\n",
       "<ellipse fill=\"none\" stroke=\"black\" cx=\"335.42\" cy=\"-187.43\" rx=\"57.97\" ry=\"37.45\"/>\n",
       "<text text-anchor=\"middle\" x=\"335.42\" y=\"-198.73\" font-family=\"Times,serif\" font-size=\"14.00\">intercept</text>\n",
       "<text text-anchor=\"middle\" x=\"335.42\" y=\"-183.73\" font-family=\"Times,serif\" font-size=\"14.00\">~</text>\n",
       "<text text-anchor=\"middle\" x=\"335.42\" y=\"-168.73\" font-family=\"Times,serif\" font-size=\"14.00\">Normal</text>\n",
       "</g>\n",
       "<!-- intercept&#45;&gt;observation -->\n",
       "<g id=\"edge3\" class=\"edge\">\n",
       "<title>intercept&#45;&gt;observation</title>\n",
       "<path fill=\"none\" stroke=\"black\" d=\"M301.59,-156.95C287.06,-144.28 269.89,-129.31 254.39,-115.8\"/>\n",
       "<polygon fill=\"black\" stroke=\"black\" points=\"256.3,-112.82 246.46,-108.89 251.7,-118.1 256.3,-112.82\"/>\n",
       "</g>\n",
       "</g>\n",
       "</svg>\n"
      ],
      "text/plain": [
       "<graphviz.graphs.Digraph at 0x72265e0d5350>"
      ]
     },
     "execution_count": 11,
     "metadata": {},
     "output_type": "execute_result"
    }
   ],
   "source": [
    "graphviz = pm.model_to_graphviz(lr_model_2)\n",
    "graphviz"
   ]
  },
  {
   "cell_type": "code",
   "execution_count": 12,
   "id": "20f245bf-4007-4074-97b5-11499a4b2545",
   "metadata": {},
   "outputs": [
    {
     "data": {
      "application/vnd.jupyter.widget-view+json": {
       "model_id": "5d149c3bd812424cb4ad54667707657c",
       "version_major": 2,
       "version_minor": 0
      },
      "text/plain": [
       "Output()"
      ]
     },
     "metadata": {},
     "output_type": "display_data"
    },
    {
     "data": {
      "text/html": [
       "<pre style=\"white-space:pre;overflow-x:auto;line-height:normal;font-family:Menlo,'DejaVu Sans Mono',consolas,'Courier New',monospace\"></pre>\n"
      ],
      "text/plain": []
     },
     "metadata": {},
     "output_type": "display_data"
    }
   ],
   "source": [
    "with lr_model_2:\n",
    "    pm.compute_log_likelihood(trace2)"
   ]
  },
  {
   "cell_type": "code",
   "execution_count": 13,
   "id": "b31504bd-957f-45aa-9000-ed839ae31c12",
   "metadata": {},
   "outputs": [
    {
     "data": {
      "text/plain": [
       "Computed from 25000 posterior samples and 15 observations log-likelihood matrix.\n",
       "\n",
       "         Estimate       SE\n",
       "elpd_loo   -51.04     2.81\n",
       "p_loo        2.82        -\n",
       "------\n",
       "\n",
       "Pareto k diagnostic values:\n",
       "                         Count   Pct.\n",
       "(-Inf, 0.70]   (good)       15  100.0%\n",
       "   (0.70, 1]   (bad)         0    0.0%\n",
       "   (1, Inf)   (very bad)    0    0.0%"
      ]
     },
     "execution_count": 13,
     "metadata": {},
     "output_type": "execute_result"
    }
   ],
   "source": [
    "az.loo(trace2)"
   ]
  },
  {
   "cell_type": "code",
   "execution_count": 14,
   "id": "89fc4572-82e4-4b5a-b83b-a5b6fa82677f",
   "metadata": {},
   "outputs": [
    {
     "name": "stderr",
     "output_type": "stream",
     "text": [
      "/home/hwting/anaconda3/envs/rapids-24.12/lib/python3.11/site-packages/arviz/stats/stats.py:1653: UserWarning: For one or more samples the posterior variance of the log predictive densities exceeds 0.4. This could be indication of WAIC starting to fail. \n",
      "See http://arxiv.org/abs/1507.04544 for details\n",
      "  warnings.warn(\n"
     ]
    },
    {
     "data": {
      "text/plain": [
       "Computed from 25000 posterior samples and 15 observations log-likelihood matrix.\n",
       "\n",
       "          Estimate       SE\n",
       "elpd_waic   -50.82     2.66\n",
       "p_waic        2.61        -\n",
       "\n",
       "There has been a warning during the calculation. Please check the results."
      ]
     },
     "execution_count": 14,
     "metadata": {},
     "output_type": "execute_result"
    }
   ],
   "source": [
    "az.waic(trace2)"
   ]
  },
  {
   "cell_type": "code",
   "execution_count": 15,
   "id": "62c554ae-0ac7-4097-998b-88f8820c41db",
   "metadata": {},
   "outputs": [
    {
     "data": {
      "text/html": [
       "<div>\n",
       "<style scoped>\n",
       "    .dataframe tbody tr th:only-of-type {\n",
       "        vertical-align: middle;\n",
       "    }\n",
       "\n",
       "    .dataframe tbody tr th {\n",
       "        vertical-align: top;\n",
       "    }\n",
       "\n",
       "    .dataframe thead th {\n",
       "        text-align: right;\n",
       "    }\n",
       "</style>\n",
       "<table border=\"1\" class=\"dataframe\">\n",
       "  <thead>\n",
       "    <tr style=\"text-align: right;\">\n",
       "      <th></th>\n",
       "      <th>rank</th>\n",
       "      <th>elpd_loo</th>\n",
       "      <th>p_loo</th>\n",
       "      <th>elpd_diff</th>\n",
       "      <th>weight</th>\n",
       "      <th>se</th>\n",
       "      <th>dse</th>\n",
       "      <th>warning</th>\n",
       "      <th>scale</th>\n",
       "    </tr>\n",
       "  </thead>\n",
       "  <tbody>\n",
       "    <tr>\n",
       "      <th>model2</th>\n",
       "      <td>0</td>\n",
       "      <td>-51.037088</td>\n",
       "      <td>2.823351</td>\n",
       "      <td>0.000000</td>\n",
       "      <td>1.000000e+00</td>\n",
       "      <td>2.809182</td>\n",
       "      <td>0.000000</td>\n",
       "      <td>False</td>\n",
       "      <td>log</td>\n",
       "    </tr>\n",
       "    <tr>\n",
       "      <th>model1</th>\n",
       "      <td>1</td>\n",
       "      <td>-54.341423</td>\n",
       "      <td>2.696415</td>\n",
       "      <td>3.304336</td>\n",
       "      <td>3.552714e-15</td>\n",
       "      <td>2.308693</td>\n",
       "      <td>1.955136</td>\n",
       "      <td>False</td>\n",
       "      <td>log</td>\n",
       "    </tr>\n",
       "  </tbody>\n",
       "</table>\n",
       "</div>"
      ],
      "text/plain": [
       "        rank   elpd_loo     p_loo  elpd_diff        weight        se  \\\n",
       "model2     0 -51.037088  2.823351   0.000000  1.000000e+00  2.809182   \n",
       "model1     1 -54.341423  2.696415   3.304336  3.552714e-15  2.308693   \n",
       "\n",
       "             dse  warning scale  \n",
       "model2  0.000000    False   log  \n",
       "model1  1.955136    False   log  "
      ]
     },
     "execution_count": 15,
     "metadata": {},
     "output_type": "execute_result"
    }
   ],
   "source": [
    "df_compare_loo = az.compare({\"model1\": trace1, \"model2\": trace2}, ic=\"loo\")\n",
    "df_compare_loo"
   ]
  },
  {
   "cell_type": "code",
   "execution_count": 16,
   "id": "f8d2362f-783f-4e12-8a8b-8809670ef7a0",
   "metadata": {},
   "outputs": [
    {
     "name": "stderr",
     "output_type": "stream",
     "text": [
      "/home/hwting/anaconda3/envs/rapids-24.12/lib/python3.11/site-packages/arviz/stats/stats.py:1653: UserWarning: For one or more samples the posterior variance of the log predictive densities exceeds 0.4. This could be indication of WAIC starting to fail. \n",
      "See http://arxiv.org/abs/1507.04544 for details\n",
      "  warnings.warn(\n",
      "/home/hwting/anaconda3/envs/rapids-24.12/lib/python3.11/site-packages/arviz/stats/stats.py:1653: UserWarning: For one or more samples the posterior variance of the log predictive densities exceeds 0.4. This could be indication of WAIC starting to fail. \n",
      "See http://arxiv.org/abs/1507.04544 for details\n",
      "  warnings.warn(\n"
     ]
    },
    {
     "data": {
      "text/html": [
       "<div>\n",
       "<style scoped>\n",
       "    .dataframe tbody tr th:only-of-type {\n",
       "        vertical-align: middle;\n",
       "    }\n",
       "\n",
       "    .dataframe tbody tr th {\n",
       "        vertical-align: top;\n",
       "    }\n",
       "\n",
       "    .dataframe thead th {\n",
       "        text-align: right;\n",
       "    }\n",
       "</style>\n",
       "<table border=\"1\" class=\"dataframe\">\n",
       "  <thead>\n",
       "    <tr style=\"text-align: right;\">\n",
       "      <th></th>\n",
       "      <th>rank</th>\n",
       "      <th>elpd_waic</th>\n",
       "      <th>p_waic</th>\n",
       "      <th>elpd_diff</th>\n",
       "      <th>weight</th>\n",
       "      <th>se</th>\n",
       "      <th>dse</th>\n",
       "      <th>warning</th>\n",
       "      <th>scale</th>\n",
       "    </tr>\n",
       "  </thead>\n",
       "  <tbody>\n",
       "    <tr>\n",
       "      <th>model2</th>\n",
       "      <td>0</td>\n",
       "      <td>-50.821832</td>\n",
       "      <td>2.608095</td>\n",
       "      <td>0.000000</td>\n",
       "      <td>1.000000e+00</td>\n",
       "      <td>2.659684</td>\n",
       "      <td>0.000000</td>\n",
       "      <td>True</td>\n",
       "      <td>log</td>\n",
       "    </tr>\n",
       "    <tr>\n",
       "      <th>model1</th>\n",
       "      <td>1</td>\n",
       "      <td>-54.145169</td>\n",
       "      <td>2.500160</td>\n",
       "      <td>3.323336</td>\n",
       "      <td>4.440892e-16</td>\n",
       "      <td>2.189969</td>\n",
       "      <td>1.939824</td>\n",
       "      <td>True</td>\n",
       "      <td>log</td>\n",
       "    </tr>\n",
       "  </tbody>\n",
       "</table>\n",
       "</div>"
      ],
      "text/plain": [
       "        rank  elpd_waic    p_waic  elpd_diff        weight        se  \\\n",
       "model2     0 -50.821832  2.608095   0.000000  1.000000e+00  2.659684   \n",
       "model1     1 -54.145169  2.500160   3.323336  4.440892e-16  2.189969   \n",
       "\n",
       "             dse  warning scale  \n",
       "model2  0.000000     True   log  \n",
       "model1  1.939824     True   log  "
      ]
     },
     "execution_count": 16,
     "metadata": {},
     "output_type": "execute_result"
    }
   ],
   "source": [
    "df_compare_waic = az.compare({\"model1\": trace1, \"model2\": trace2}, ic=\"waic\")\n",
    "df_compare_waic"
   ]
  },
  {
   "cell_type": "markdown",
   "id": "9cf7dfe1-49af-409e-86ad-16517bfe3768",
   "metadata": {},
   "source": [
    "## Bambi"
   ]
  },
  {
   "cell_type": "code",
   "execution_count": 17,
   "id": "7cb46b2baa9ecd55",
   "metadata": {
    "ExecuteTime": {
     "start_time": "2024-05-26T12:55:31.075472Z"
    },
    "executionInfo": {
     "elapsed": 6,
     "status": "ok",
     "timestamp": 1716712493134,
     "user": {
      "displayName": "Howard Ting",
      "userId": "11297780970646226888"
     },
     "user_tz": -480
    },
    "id": "7cb46b2baa9ecd55",
    "jupyter": {
     "is_executing": true
    }
   },
   "outputs": [
    {
     "name": "stderr",
     "output_type": "stream",
     "text": [
      "Initializing NUTS using jitter+adapt_diag...\n",
      "Sequential sampling (1 chains in 1 job)\n",
      "NUTS: [sigma, Intercept, Years_in_School]\n"
     ]
    },
    {
     "data": {
      "application/vnd.jupyter.widget-view+json": {
       "model_id": "fe49904901d44be080bd0cff8ffbe9ab",
       "version_major": 2,
       "version_minor": 0
      },
      "text/plain": [
       "Output()"
      ]
     },
     "metadata": {},
     "output_type": "display_data"
    },
    {
     "data": {
      "text/html": [
       "<pre style=\"white-space:pre;overflow-x:auto;line-height:normal;font-family:Menlo,'DejaVu Sans Mono',consolas,'Courier New',monospace\"></pre>\n"
      ],
      "text/plain": []
     },
     "metadata": {},
     "output_type": "display_data"
    },
    {
     "name": "stderr",
     "output_type": "stream",
     "text": [
      "Sampling 1 chain for 5_000 tune and 25_000 draw iterations (5_000 + 25_000 draws total) took 9 seconds.\n",
      "Only one chain was sampled, this makes it impossible to run some convergence checks\n"
     ]
    }
   ],
   "source": [
    "model1 = bmb.Model('Success ~ Years_in_School', data=data)\n",
    "results1 = model1.fit(draws=25000, tune=5000, chains=1)"
   ]
  },
  {
   "cell_type": "code",
   "execution_count": 18,
   "id": "36193814-81b0-49c0-a641-8c4e3f5d6b10",
   "metadata": {},
   "outputs": [
    {
     "data": {
      "image/svg+xml": [
       "<?xml version=\"1.0\" encoding=\"UTF-8\" standalone=\"no\"?>\n",
       "<!DOCTYPE svg PUBLIC \"-//W3C//DTD SVG 1.1//EN\"\n",
       " \"http://www.w3.org/Graphics/SVG/1.1/DTD/svg11.dtd\">\n",
       "<!-- Generated by graphviz version 2.43.0 (0)\n",
       " -->\n",
       "<!-- Title: %3 Pages: 1 -->\n",
       "<svg width=\"419pt\" height=\"344pt\"\n",
       " viewBox=\"0.00 0.00 418.83 343.86\" xmlns=\"http://www.w3.org/2000/svg\" xmlns:xlink=\"http://www.w3.org/1999/xlink\">\n",
       "<g id=\"graph0\" class=\"graph\" transform=\"scale(1 1) rotate(0) translate(4 339.86)\">\n",
       "<title>%3</title>\n",
       "<polygon fill=\"white\" stroke=\"transparent\" points=\"-4,4 -4,-339.86 414.83,-339.86 414.83,4 -4,4\"/>\n",
       "<g id=\"clust1\" class=\"cluster\">\n",
       "<title>cluster__obs__ (15)</title>\n",
       "<path fill=\"none\" stroke=\"black\" d=\"M122.92,-8C122.92,-8 228.92,-8 228.92,-8 234.92,-8 240.92,-14 240.92,-20 240.92,-20 240.92,-209.93 240.92,-209.93 240.92,-215.93 234.92,-221.93 228.92,-221.93 228.92,-221.93 122.92,-221.93 122.92,-221.93 116.92,-221.93 110.92,-215.93 110.92,-209.93 110.92,-209.93 110.92,-20 110.92,-20 110.92,-14 116.92,-8 122.92,-8\"/>\n",
       "<text text-anchor=\"middle\" x=\"190.42\" y=\"-15.8\" font-family=\"Times,serif\" font-size=\"14.00\">__obs__ (15)</text>\n",
       "</g>\n",
       "<!-- Years_in_School -->\n",
       "<g id=\"node1\" class=\"node\">\n",
       "<title>Years_in_School</title>\n",
       "<ellipse fill=\"none\" stroke=\"black\" cx=\"91.92\" cy=\"-298.38\" rx=\"91.85\" ry=\"37.45\"/>\n",
       "<text text-anchor=\"middle\" x=\"91.92\" y=\"-309.68\" font-family=\"Times,serif\" font-size=\"14.00\">Years_in_School</text>\n",
       "<text text-anchor=\"middle\" x=\"91.92\" y=\"-294.68\" font-family=\"Times,serif\" font-size=\"14.00\">~</text>\n",
       "<text text-anchor=\"middle\" x=\"91.92\" y=\"-279.68\" font-family=\"Times,serif\" font-size=\"14.00\">Normal</text>\n",
       "</g>\n",
       "<!-- mu -->\n",
       "<g id=\"node4\" class=\"node\">\n",
       "<title>mu</title>\n",
       "<polygon fill=\"none\" stroke=\"black\" points=\"232.92,-213.93 118.92,-213.93 118.92,-160.93 232.92,-160.93 232.92,-213.93\"/>\n",
       "<text text-anchor=\"middle\" x=\"175.92\" y=\"-198.73\" font-family=\"Times,serif\" font-size=\"14.00\">mu</text>\n",
       "<text text-anchor=\"middle\" x=\"175.92\" y=\"-183.73\" font-family=\"Times,serif\" font-size=\"14.00\">~</text>\n",
       "<text text-anchor=\"middle\" x=\"175.92\" y=\"-168.73\" font-family=\"Times,serif\" font-size=\"14.00\">Deterministic</text>\n",
       "</g>\n",
       "<!-- Years_in_School&#45;&gt;mu -->\n",
       "<g id=\"edge1\" class=\"edge\">\n",
       "<title>Years_in_School&#45;&gt;mu</title>\n",
       "<path fill=\"none\" stroke=\"black\" d=\"M118.96,-262.31C128.88,-249.45 140.07,-234.93 149.9,-222.19\"/>\n",
       "<polygon fill=\"black\" stroke=\"black\" points=\"152.79,-224.16 156.13,-214.11 147.25,-219.89 152.79,-224.16\"/>\n",
       "</g>\n",
       "<!-- sigma -->\n",
       "<g id=\"node2\" class=\"node\">\n",
       "<title>sigma</title>\n",
       "<ellipse fill=\"none\" stroke=\"black\" cx=\"330.92\" cy=\"-187.43\" rx=\"79.81\" ry=\"37.45\"/>\n",
       "<text text-anchor=\"middle\" x=\"330.92\" y=\"-198.73\" font-family=\"Times,serif\" font-size=\"14.00\">sigma</text>\n",
       "<text text-anchor=\"middle\" x=\"330.92\" y=\"-183.73\" font-family=\"Times,serif\" font-size=\"14.00\">~</text>\n",
       "<text text-anchor=\"middle\" x=\"330.92\" y=\"-168.73\" font-family=\"Times,serif\" font-size=\"14.00\">HalfStudentT</text>\n",
       "</g>\n",
       "<!-- Success -->\n",
       "<g id=\"node5\" class=\"node\">\n",
       "<title>Success</title>\n",
       "<ellipse fill=\"lightgrey\" stroke=\"black\" cx=\"177.92\" cy=\"-76.48\" rx=\"52.15\" ry=\"37.45\"/>\n",
       "<text text-anchor=\"middle\" x=\"177.92\" y=\"-87.78\" font-family=\"Times,serif\" font-size=\"14.00\">Success</text>\n",
       "<text text-anchor=\"middle\" x=\"177.92\" y=\"-72.78\" font-family=\"Times,serif\" font-size=\"14.00\">~</text>\n",
       "<text text-anchor=\"middle\" x=\"177.92\" y=\"-57.78\" font-family=\"Times,serif\" font-size=\"14.00\">Normal</text>\n",
       "</g>\n",
       "<!-- sigma&#45;&gt;Success -->\n",
       "<g id=\"edge4\" class=\"edge\">\n",
       "<title>sigma&#45;&gt;Success</title>\n",
       "<path fill=\"none\" stroke=\"black\" d=\"M287.9,-155.79C267.54,-141.3 243.25,-124 222.68,-109.35\"/>\n",
       "<polygon fill=\"black\" stroke=\"black\" points=\"224.59,-106.41 214.41,-103.46 220.53,-112.11 224.59,-106.41\"/>\n",
       "</g>\n",
       "<!-- Intercept -->\n",
       "<g id=\"node3\" class=\"node\">\n",
       "<title>Intercept</title>\n",
       "<ellipse fill=\"none\" stroke=\"black\" cx=\"260.92\" cy=\"-298.38\" rx=\"58.88\" ry=\"37.45\"/>\n",
       "<text text-anchor=\"middle\" x=\"260.92\" y=\"-309.68\" font-family=\"Times,serif\" font-size=\"14.00\">Intercept</text>\n",
       "<text text-anchor=\"middle\" x=\"260.92\" y=\"-294.68\" font-family=\"Times,serif\" font-size=\"14.00\">~</text>\n",
       "<text text-anchor=\"middle\" x=\"260.92\" y=\"-279.68\" font-family=\"Times,serif\" font-size=\"14.00\">Normal</text>\n",
       "</g>\n",
       "<!-- Intercept&#45;&gt;mu -->\n",
       "<g id=\"edge2\" class=\"edge\">\n",
       "<title>Intercept&#45;&gt;mu</title>\n",
       "<path fill=\"none\" stroke=\"black\" d=\"M235.19,-264.4C224.75,-251.02 212.7,-235.57 202.21,-222.12\"/>\n",
       "<polygon fill=\"black\" stroke=\"black\" points=\"204.81,-219.77 195.9,-214.04 199.29,-224.08 204.81,-219.77\"/>\n",
       "</g>\n",
       "<!-- mu&#45;&gt;Success -->\n",
       "<g id=\"edge3\" class=\"edge\">\n",
       "<title>mu&#45;&gt;Success</title>\n",
       "<path fill=\"none\" stroke=\"black\" d=\"M176.39,-160.89C176.59,-149.98 176.83,-136.89 177.06,-124.35\"/>\n",
       "<polygon fill=\"black\" stroke=\"black\" points=\"180.57,-124.06 177.25,-114 173.57,-123.94 180.57,-124.06\"/>\n",
       "</g>\n",
       "</g>\n",
       "</svg>\n"
      ],
      "text/plain": [
       "<graphviz.graphs.Digraph at 0x722654726810>"
      ]
     },
     "execution_count": 18,
     "metadata": {},
     "output_type": "execute_result"
    }
   ],
   "source": [
    "graphviz = pm.model_to_graphviz(model1.backend.model)\n",
    "graphviz"
   ]
  },
  {
   "cell_type": "code",
   "execution_count": 19,
   "id": "ad7a6497aed5465",
   "metadata": {},
   "outputs": [
    {
     "name": "stderr",
     "output_type": "stream",
     "text": [
      "arviz - WARNING - Shape validation failed: input_shape: (1, 25000), minimum_shape: (chains=2, draws=4)\n"
     ]
    },
    {
     "data": {
      "text/html": [
       "<div>\n",
       "<style scoped>\n",
       "    .dataframe tbody tr th:only-of-type {\n",
       "        vertical-align: middle;\n",
       "    }\n",
       "\n",
       "    .dataframe tbody tr th {\n",
       "        vertical-align: top;\n",
       "    }\n",
       "\n",
       "    .dataframe thead th {\n",
       "        text-align: right;\n",
       "    }\n",
       "</style>\n",
       "<table border=\"1\" class=\"dataframe\">\n",
       "  <thead>\n",
       "    <tr style=\"text-align: right;\">\n",
       "      <th></th>\n",
       "      <th>mean</th>\n",
       "      <th>sd</th>\n",
       "      <th>hdi_3%</th>\n",
       "      <th>hdi_97%</th>\n",
       "      <th>mcse_mean</th>\n",
       "      <th>mcse_sd</th>\n",
       "      <th>ess_bulk</th>\n",
       "      <th>ess_tail</th>\n",
       "      <th>r_hat</th>\n",
       "    </tr>\n",
       "  </thead>\n",
       "  <tbody>\n",
       "    <tr>\n",
       "      <th>Intercept</th>\n",
       "      <td>7.910</td>\n",
       "      <td>8.000</td>\n",
       "      <td>-7.101</td>\n",
       "      <td>23.275</td>\n",
       "      <td>0.061</td>\n",
       "      <td>0.049</td>\n",
       "      <td>17522.0</td>\n",
       "      <td>13952.0</td>\n",
       "      <td>NaN</td>\n",
       "    </tr>\n",
       "    <tr>\n",
       "      <th>Years_in_School</th>\n",
       "      <td>2.013</td>\n",
       "      <td>0.509</td>\n",
       "      <td>1.041</td>\n",
       "      <td>2.976</td>\n",
       "      <td>0.004</td>\n",
       "      <td>0.003</td>\n",
       "      <td>16810.0</td>\n",
       "      <td>14074.0</td>\n",
       "      <td>NaN</td>\n",
       "    </tr>\n",
       "    <tr>\n",
       "      <th>sigma</th>\n",
       "      <td>8.410</td>\n",
       "      <td>1.790</td>\n",
       "      <td>5.581</td>\n",
       "      <td>11.853</td>\n",
       "      <td>0.013</td>\n",
       "      <td>0.010</td>\n",
       "      <td>19921.0</td>\n",
       "      <td>17051.0</td>\n",
       "      <td>NaN</td>\n",
       "    </tr>\n",
       "  </tbody>\n",
       "</table>\n",
       "</div>"
      ],
      "text/plain": [
       "                  mean     sd  hdi_3%  hdi_97%  mcse_mean  mcse_sd  ess_bulk  \\\n",
       "Intercept        7.910  8.000  -7.101   23.275      0.061    0.049   17522.0   \n",
       "Years_in_School  2.013  0.509   1.041    2.976      0.004    0.003   16810.0   \n",
       "sigma            8.410  1.790   5.581   11.853      0.013    0.010   19921.0   \n",
       "\n",
       "                 ess_tail  r_hat  \n",
       "Intercept         13952.0    NaN  \n",
       "Years_in_School   14074.0    NaN  \n",
       "sigma             17051.0    NaN  "
      ]
     },
     "execution_count": 19,
     "metadata": {},
     "output_type": "execute_result"
    }
   ],
   "source": [
    "az.summary(results1)"
   ]
  },
  {
   "cell_type": "code",
   "execution_count": 20,
   "id": "2de5bd49-d0b2-4d40-9c95-d21eddfe04df",
   "metadata": {},
   "outputs": [
    {
     "name": "stderr",
     "output_type": "stream",
     "text": [
      "Initializing NUTS using jitter+adapt_diag...\n",
      "Sequential sampling (1 chains in 1 job)\n",
      "NUTS: [sigma, Intercept, Grit]\n"
     ]
    },
    {
     "data": {
      "application/vnd.jupyter.widget-view+json": {
       "model_id": "6baf773faf04430f9a430967ca9dc8f5",
       "version_major": 2,
       "version_minor": 0
      },
      "text/plain": [
       "Output()"
      ]
     },
     "metadata": {},
     "output_type": "display_data"
    },
    {
     "data": {
      "text/html": [
       "<pre style=\"white-space:pre;overflow-x:auto;line-height:normal;font-family:Menlo,'DejaVu Sans Mono',consolas,'Courier New',monospace\"></pre>\n"
      ],
      "text/plain": []
     },
     "metadata": {},
     "output_type": "display_data"
    },
    {
     "name": "stderr",
     "output_type": "stream",
     "text": [
      "Sampling 1 chain for 5_000 tune and 25_000 draw iterations (5_000 + 25_000 draws total) took 8 seconds.\n",
      "Only one chain was sampled, this makes it impossible to run some convergence checks\n"
     ]
    }
   ],
   "source": [
    "model2 = bmb.Model('Success ~ Grit', data=data)\n",
    "results2 = model2.fit(draws=25000, tune=5000, chains=1)"
   ]
  },
  {
   "cell_type": "code",
   "execution_count": 21,
   "id": "b45a7cd0-7290-4a85-8b21-d963c93728fb",
   "metadata": {},
   "outputs": [
    {
     "data": {
      "image/svg+xml": [
       "<?xml version=\"1.0\" encoding=\"UTF-8\" standalone=\"no\"?>\n",
       "<!DOCTYPE svg PUBLIC \"-//W3C//DTD SVG 1.1//EN\"\n",
       " \"http://www.w3.org/Graphics/SVG/1.1/DTD/svg11.dtd\">\n",
       "<!-- Generated by graphviz version 2.43.0 (0)\n",
       " -->\n",
       "<!-- Title: %3 Pages: 1 -->\n",
       "<svg width=\"355pt\" height=\"344pt\"\n",
       " viewBox=\"0.00 0.00 355.40 343.86\" xmlns=\"http://www.w3.org/2000/svg\" xmlns:xlink=\"http://www.w3.org/1999/xlink\">\n",
       "<g id=\"graph0\" class=\"graph\" transform=\"scale(1 1) rotate(0) translate(4 339.86)\">\n",
       "<title>%3</title>\n",
       "<polygon fill=\"white\" stroke=\"transparent\" points=\"-4,4 -4,-339.86 351.4,-339.86 351.4,4 -4,4\"/>\n",
       "<g id=\"clust1\" class=\"cluster\">\n",
       "<title>cluster__obs__ (15)</title>\n",
       "<path fill=\"none\" stroke=\"black\" d=\"M59.5,-8C59.5,-8 165.5,-8 165.5,-8 171.5,-8 177.5,-14 177.5,-20 177.5,-20 177.5,-209.93 177.5,-209.93 177.5,-215.93 171.5,-221.93 165.5,-221.93 165.5,-221.93 59.5,-221.93 59.5,-221.93 53.5,-221.93 47.5,-215.93 47.5,-209.93 47.5,-209.93 47.5,-20 47.5,-20 47.5,-14 53.5,-8 59.5,-8\"/>\n",
       "<text text-anchor=\"middle\" x=\"127\" y=\"-15.8\" font-family=\"Times,serif\" font-size=\"14.00\">__obs__ (15)</text>\n",
       "</g>\n",
       "<!-- Grit -->\n",
       "<g id=\"node1\" class=\"node\">\n",
       "<title>Grit</title>\n",
       "<ellipse fill=\"none\" stroke=\"black\" cx=\"49.5\" cy=\"-298.38\" rx=\"49.49\" ry=\"37.45\"/>\n",
       "<text text-anchor=\"middle\" x=\"49.5\" y=\"-309.68\" font-family=\"Times,serif\" font-size=\"14.00\">Grit</text>\n",
       "<text text-anchor=\"middle\" x=\"49.5\" y=\"-294.68\" font-family=\"Times,serif\" font-size=\"14.00\">~</text>\n",
       "<text text-anchor=\"middle\" x=\"49.5\" y=\"-279.68\" font-family=\"Times,serif\" font-size=\"14.00\">Normal</text>\n",
       "</g>\n",
       "<!-- mu -->\n",
       "<g id=\"node4\" class=\"node\">\n",
       "<title>mu</title>\n",
       "<polygon fill=\"none\" stroke=\"black\" points=\"169.5,-213.93 55.5,-213.93 55.5,-160.93 169.5,-160.93 169.5,-213.93\"/>\n",
       "<text text-anchor=\"middle\" x=\"112.5\" y=\"-198.73\" font-family=\"Times,serif\" font-size=\"14.00\">mu</text>\n",
       "<text text-anchor=\"middle\" x=\"112.5\" y=\"-183.73\" font-family=\"Times,serif\" font-size=\"14.00\">~</text>\n",
       "<text text-anchor=\"middle\" x=\"112.5\" y=\"-168.73\" font-family=\"Times,serif\" font-size=\"14.00\">Deterministic</text>\n",
       "</g>\n",
       "<!-- Grit&#45;&gt;mu -->\n",
       "<g id=\"edge1\" class=\"edge\">\n",
       "<title>Grit&#45;&gt;mu</title>\n",
       "<path fill=\"none\" stroke=\"black\" d=\"M68.91,-263.8C76.43,-250.8 85.04,-235.92 92.6,-222.84\"/>\n",
       "<polygon fill=\"black\" stroke=\"black\" points=\"95.67,-224.52 97.65,-214.11 89.61,-221.02 95.67,-224.52\"/>\n",
       "</g>\n",
       "<!-- sigma -->\n",
       "<g id=\"node2\" class=\"node\">\n",
       "<title>sigma</title>\n",
       "<ellipse fill=\"none\" stroke=\"black\" cx=\"267.5\" cy=\"-187.43\" rx=\"79.81\" ry=\"37.45\"/>\n",
       "<text text-anchor=\"middle\" x=\"267.5\" y=\"-198.73\" font-family=\"Times,serif\" font-size=\"14.00\">sigma</text>\n",
       "<text text-anchor=\"middle\" x=\"267.5\" y=\"-183.73\" font-family=\"Times,serif\" font-size=\"14.00\">~</text>\n",
       "<text text-anchor=\"middle\" x=\"267.5\" y=\"-168.73\" font-family=\"Times,serif\" font-size=\"14.00\">HalfStudentT</text>\n",
       "</g>\n",
       "<!-- Success -->\n",
       "<g id=\"node5\" class=\"node\">\n",
       "<title>Success</title>\n",
       "<ellipse fill=\"lightgrey\" stroke=\"black\" cx=\"114.5\" cy=\"-76.48\" rx=\"52.15\" ry=\"37.45\"/>\n",
       "<text text-anchor=\"middle\" x=\"114.5\" y=\"-87.78\" font-family=\"Times,serif\" font-size=\"14.00\">Success</text>\n",
       "<text text-anchor=\"middle\" x=\"114.5\" y=\"-72.78\" font-family=\"Times,serif\" font-size=\"14.00\">~</text>\n",
       "<text text-anchor=\"middle\" x=\"114.5\" y=\"-57.78\" font-family=\"Times,serif\" font-size=\"14.00\">Normal</text>\n",
       "</g>\n",
       "<!-- sigma&#45;&gt;Success -->\n",
       "<g id=\"edge4\" class=\"edge\">\n",
       "<title>sigma&#45;&gt;Success</title>\n",
       "<path fill=\"none\" stroke=\"black\" d=\"M224.47,-155.79C204.12,-141.3 179.83,-124 159.26,-109.35\"/>\n",
       "<polygon fill=\"black\" stroke=\"black\" points=\"161.16,-106.41 150.99,-103.46 157.1,-112.11 161.16,-106.41\"/>\n",
       "</g>\n",
       "<!-- Intercept -->\n",
       "<g id=\"node3\" class=\"node\">\n",
       "<title>Intercept</title>\n",
       "<ellipse fill=\"none\" stroke=\"black\" cx=\"175.5\" cy=\"-298.38\" rx=\"58.88\" ry=\"37.45\"/>\n",
       "<text text-anchor=\"middle\" x=\"175.5\" y=\"-309.68\" font-family=\"Times,serif\" font-size=\"14.00\">Intercept</text>\n",
       "<text text-anchor=\"middle\" x=\"175.5\" y=\"-294.68\" font-family=\"Times,serif\" font-size=\"14.00\">~</text>\n",
       "<text text-anchor=\"middle\" x=\"175.5\" y=\"-279.68\" font-family=\"Times,serif\" font-size=\"14.00\">Normal</text>\n",
       "</g>\n",
       "<!-- Intercept&#45;&gt;mu -->\n",
       "<g id=\"edge2\" class=\"edge\">\n",
       "<title>Intercept&#45;&gt;mu</title>\n",
       "<path fill=\"none\" stroke=\"black\" d=\"M155.56,-262.91C148.2,-250.17 139.85,-235.73 132.48,-222.98\"/>\n",
       "<polygon fill=\"black\" stroke=\"black\" points=\"135.34,-220.95 127.31,-214.04 129.28,-224.45 135.34,-220.95\"/>\n",
       "</g>\n",
       "<!-- mu&#45;&gt;Success -->\n",
       "<g id=\"edge3\" class=\"edge\">\n",
       "<title>mu&#45;&gt;Success</title>\n",
       "<path fill=\"none\" stroke=\"black\" d=\"M112.97,-160.89C113.17,-149.98 113.41,-136.89 113.64,-124.35\"/>\n",
       "<polygon fill=\"black\" stroke=\"black\" points=\"117.14,-124.06 113.83,-114 110.14,-123.94 117.14,-124.06\"/>\n",
       "</g>\n",
       "</g>\n",
       "</svg>\n"
      ],
      "text/plain": [
       "<graphviz.graphs.Digraph at 0x7226548a6810>"
      ]
     },
     "execution_count": 21,
     "metadata": {},
     "output_type": "execute_result"
    }
   ],
   "source": [
    "graphviz = pm.model_to_graphviz(model2.backend.model)\n",
    "graphviz"
   ]
  },
  {
   "cell_type": "code",
   "execution_count": null,
   "id": "010dfe06-0ff2-42da-a6f2-47dd7bfa7586",
   "metadata": {},
   "outputs": [],
   "source": []
  }
 ],
 "metadata": {
  "accelerator": "GPU",
  "colab": {
   "gpuType": "T4",
   "provenance": []
  },
  "kernelspec": {
   "display_name": "Python 3 (ipykernel)",
   "language": "python",
   "name": "python3"
  },
  "language_info": {
   "codemirror_mode": {
    "name": "ipython",
    "version": 3
   },
   "file_extension": ".py",
   "mimetype": "text/x-python",
   "name": "python",
   "nbconvert_exporter": "python",
   "pygments_lexer": "ipython3",
   "version": "3.11.11"
  }
 },
 "nbformat": 4,
 "nbformat_minor": 5
}
