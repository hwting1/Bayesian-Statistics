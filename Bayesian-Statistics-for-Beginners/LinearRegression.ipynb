{
 "cells": [
  {
   "cell_type": "code",
   "execution_count": 1,
   "id": "initial_id",
   "metadata": {
    "ExecuteTime": {
     "end_time": "2024-05-26T12:55:10.553732Z",
     "start_time": "2024-05-26T12:55:08.588679Z"
    },
    "executionInfo": {
     "elapsed": 8,
     "status": "ok",
     "timestamp": 1716712478607,
     "user": {
      "displayName": "Howard Ting",
      "userId": "11297780970646226888"
     },
     "user_tz": -480
    },
    "id": "initial_id"
   },
   "outputs": [],
   "source": [
    "import numpy as np\n",
    "import pandas as pd\n",
    "import pymc as pm\n",
    "import bambi as bmb\n",
    "import arviz as az"
   ]
  },
  {
   "cell_type": "code",
   "execution_count": 2,
   "id": "1659576e207800c8",
   "metadata": {
    "ExecuteTime": {
     "end_time": "2024-05-26T12:55:10.559338Z",
     "start_time": "2024-05-26T12:55:10.554848Z"
    },
    "executionInfo": {
     "elapsed": 7,
     "status": "ok",
     "timestamp": 1716712478607,
     "user": {
      "displayName": "Howard Ting",
      "userId": "11297780970646226888"
     },
     "user_tz": -480
    },
    "id": "1659576e207800c8"
   },
   "outputs": [],
   "source": [
    "success = np.array([33.48, 42.53, 48.53, 30.21, 38.76, 38.59, 52.93, 32.65, 52.42, 22.22, 41.40, 16.28, 40.83, 24.43, 56.38])\n",
    "IQ = np.array([112, 94, 118, 87, 96, 106, 71, 91, 95, 94, 100, 98, 94, 113, 85])\n",
    "years_in_school = np.array([12, 14, 18, 10, 13, 22, 17, 15, 16, 9, 19, 8, 20, 11, 21])\n",
    "grit = np.array([2.2, 3.2, 3.4, 1.8, 2.8, 0.2, 4.4, 1.0, 4.6, 0.4, 1.6, 0.0, 1.2, 0.6, 4.2])\n",
    "data = pd.DataFrame({\n",
    "    'Success': success,\n",
    "    'IQ': IQ,\n",
    "    'Years_in_School': years_in_school,\n",
    "    'Grit': grit\n",
    "})"
   ]
  },
  {
   "cell_type": "markdown",
   "id": "ebe8fa7d-1c2a-45c7-b6d7-128a8a9c0bc5",
   "metadata": {},
   "source": [
    "## Pymc"
   ]
  },
  {
   "cell_type": "code",
   "execution_count": 3,
   "id": "8f134cfdbd6bff37",
   "metadata": {
    "ExecuteTime": {
     "end_time": "2024-05-26T12:55:30.265706Z",
     "start_time": "2024-05-26T12:55:10.560470Z"
    },
    "colab": {
     "base_uri": "https://localhost:8080/",
     "height": 37
    },
    "executionInfo": {
     "elapsed": 14534,
     "status": "ok",
     "timestamp": 1716712493134,
     "user": {
      "displayName": "Howard Ting",
      "userId": "11297780970646226888"
     },
     "user_tz": -480
    },
    "id": "8f134cfdbd6bff37",
    "outputId": "9bf84664-cc98-4bc6-f3f1-821a0aefde69"
   },
   "outputs": [
    {
     "data": {
      "text/html": [
       "\n",
       "<style>\n",
       "    :root {\n",
       "        --column-width-1: 40%; /* Progress column width */\n",
       "        --column-width-2: 15%; /* Chain column width */\n",
       "        --column-width-3: 15%; /* Divergences column width */\n",
       "        --column-width-4: 15%; /* Step Size column width */\n",
       "        --column-width-5: 15%; /* Gradients/Draw column width */\n",
       "    }\n",
       "\n",
       "    .nutpie {\n",
       "        max-width: 800px;\n",
       "        margin: 10px auto;\n",
       "        font-family: 'Segoe UI', Tahoma, Geneva, Verdana, sans-serif;\n",
       "        //color: #333;\n",
       "        //background-color: #fff;\n",
       "        padding: 10px;\n",
       "        box-shadow: 0 4px 6px rgba(0,0,0,0.1);\n",
       "        border-radius: 8px;\n",
       "        font-size: 14px; /* Smaller font size for a more compact look */\n",
       "    }\n",
       "    .nutpie table {\n",
       "        width: 100%;\n",
       "        border-collapse: collapse; /* Remove any extra space between borders */\n",
       "    }\n",
       "    .nutpie th, .nutpie td {\n",
       "        padding: 8px 10px; /* Reduce padding to make table more compact */\n",
       "        text-align: left;\n",
       "        border-bottom: 1px solid #888;\n",
       "    }\n",
       "    .nutpie th {\n",
       "        //background-color: #f0f0f0;\n",
       "    }\n",
       "\n",
       "    .nutpie th:nth-child(1) { width: var(--column-width-1); }\n",
       "    .nutpie th:nth-child(2) { width: var(--column-width-2); }\n",
       "    .nutpie th:nth-child(3) { width: var(--column-width-3); }\n",
       "    .nutpie th:nth-child(4) { width: var(--column-width-4); }\n",
       "    .nutpie th:nth-child(5) { width: var(--column-width-5); }\n",
       "\n",
       "    .nutpie progress {\n",
       "        width: 100%;\n",
       "        height: 15px; /* Smaller progress bars */\n",
       "        border-radius: 5px;\n",
       "    }\n",
       "    progress::-webkit-progress-bar {\n",
       "        background-color: #eee;\n",
       "        border-radius: 5px;\n",
       "    }\n",
       "    progress::-webkit-progress-value {\n",
       "        background-color: #5cb85c;\n",
       "        border-radius: 5px;\n",
       "    }\n",
       "    progress::-moz-progress-bar {\n",
       "        background-color: #5cb85c;\n",
       "        border-radius: 5px;\n",
       "    }\n",
       "    .nutpie .progress-cell {\n",
       "        width: 100%;\n",
       "    }\n",
       "\n",
       "    .nutpie p strong { font-size: 16px; font-weight: bold; }\n",
       "\n",
       "    @media (prefers-color-scheme: dark) {\n",
       "        .nutpie {\n",
       "            //color: #ddd;\n",
       "            //background-color: #1e1e1e;\n",
       "            box-shadow: 0 4px 6px rgba(0,0,0,0.2);\n",
       "        }\n",
       "        .nutpie table, .nutpie th, .nutpie td {\n",
       "            border-color: #555;\n",
       "            color: #ccc;\n",
       "        }\n",
       "        .nutpie th {\n",
       "            background-color: #2a2a2a;\n",
       "        }\n",
       "        .nutpie progress::-webkit-progress-bar {\n",
       "            background-color: #444;\n",
       "        }\n",
       "        .nutpie progress::-webkit-progress-value {\n",
       "            background-color: #3178c6;\n",
       "        }\n",
       "        .nutpie progress::-moz-progress-bar {\n",
       "            background-color: #3178c6;\n",
       "        }\n",
       "    }\n",
       "</style>\n"
      ],
      "text/plain": [
       "<IPython.core.display.HTML object>"
      ]
     },
     "metadata": {},
     "output_type": "display_data"
    },
    {
     "data": {
      "text/html": [
       "\n",
       "<div class=\"nutpie\">\n",
       "    <p><strong>Sampler Progress</strong></p>\n",
       "    <p>Total Chains: <span id=\"total-chains\">1</span></p>\n",
       "    <p>Active Chains: <span id=\"active-chains\">0</span></p>\n",
       "    <p>\n",
       "        Finished Chains:\n",
       "        <span id=\"active-chains\">1</span>\n",
       "    </p>\n",
       "    <p>Sampling for now</p>\n",
       "    <p>\n",
       "        Estimated Time to Completion:\n",
       "        <span id=\"eta\">now</span>\n",
       "    </p>\n",
       "\n",
       "    <progress\n",
       "        id=\"total-progress-bar\"\n",
       "        max=\"30000\"\n",
       "        value=\"30000\">\n",
       "    </progress>\n",
       "    <table>\n",
       "        <thead>\n",
       "            <tr>\n",
       "                <th>Progress</th>\n",
       "                <th>Draws</th>\n",
       "                <th>Divergences</th>\n",
       "                <th>Step Size</th>\n",
       "                <th>Gradients/Draw</th>\n",
       "            </tr>\n",
       "        </thead>\n",
       "        <tbody id=\"chain-details\">\n",
       "            \n",
       "                <tr>\n",
       "                    <td class=\"progress-cell\">\n",
       "                        <progress\n",
       "                            max=\"30000\"\n",
       "                            value=\"30000\">\n",
       "                        </progress>\n",
       "                    </td>\n",
       "                    <td>30000</td>\n",
       "                    <td>0</td>\n",
       "                    <td>0.53</td>\n",
       "                    <td>3</td>\n",
       "                </tr>\n",
       "            \n",
       "            </tr>\n",
       "        </tbody>\n",
       "    </table>\n",
       "</div>\n"
      ],
      "text/plain": [
       "<nutpie.sample._BackgroundSampler at 0x7fb372053290>"
      ]
     },
     "metadata": {},
     "output_type": "display_data"
    }
   ],
   "source": [
    "with pm.Model() as lr_model_1:\n",
    "    b_0 = pm.Normal('intercept', mu=0, tau=0.0001)\n",
    "    b_1 = pm.Normal('years_in_school', mu=0, tau=0.0001)\n",
    "    tau = pm.Gamma('success_tau', alpha=0.01, beta=0.01)\n",
    "\n",
    "    mu = b_0 + b_1 * years_in_school\n",
    "    obs = pm.Normal('observation', mu=mu, tau=tau, observed=success)\n",
    "    step = pm.NUTS()\n",
    "    trace1 = pm.sample(25000, step=step, tune=5000, chains=1, nuts_sampler=\"nutpie\")"
   ]
  },
  {
   "cell_type": "code",
   "execution_count": 4,
   "id": "WPb--OZU9xGd",
   "metadata": {
    "ExecuteTime": {
     "end_time": "2024-05-26T12:55:31.071423Z",
     "start_time": "2024-05-26T12:55:30.268338Z"
    },
    "colab": {
     "base_uri": "https://localhost:8080/",
     "height": 192
    },
    "executionInfo": {
     "elapsed": 9,
     "status": "ok",
     "timestamp": 1716712493134,
     "user": {
      "displayName": "Howard Ting",
      "userId": "11297780970646226888"
     },
     "user_tz": -480
    },
    "id": "WPb--OZU9xGd",
    "outputId": "f35a2ac9-ba34-4534-c72f-af7d2f9a4355"
   },
   "outputs": [
    {
     "name": "stderr",
     "output_type": "stream",
     "text": [
      "arviz - WARNING - Shape validation failed: input_shape: (1, 25000), minimum_shape: (chains=2, draws=4)\n"
     ]
    },
    {
     "data": {
      "text/html": [
       "<div>\n",
       "<style scoped>\n",
       "    .dataframe tbody tr th:only-of-type {\n",
       "        vertical-align: middle;\n",
       "    }\n",
       "\n",
       "    .dataframe tbody tr th {\n",
       "        vertical-align: top;\n",
       "    }\n",
       "\n",
       "    .dataframe thead th {\n",
       "        text-align: right;\n",
       "    }\n",
       "</style>\n",
       "<table border=\"1\" class=\"dataframe\">\n",
       "  <thead>\n",
       "    <tr style=\"text-align: right;\">\n",
       "      <th></th>\n",
       "      <th>mean</th>\n",
       "      <th>sd</th>\n",
       "      <th>hdi_3%</th>\n",
       "      <th>hdi_97%</th>\n",
       "      <th>mcse_mean</th>\n",
       "      <th>mcse_sd</th>\n",
       "      <th>ess_bulk</th>\n",
       "      <th>ess_tail</th>\n",
       "      <th>r_hat</th>\n",
       "    </tr>\n",
       "  </thead>\n",
       "  <tbody>\n",
       "    <tr>\n",
       "      <th>intercept</th>\n",
       "      <td>7.648</td>\n",
       "      <td>7.688</td>\n",
       "      <td>-7.039</td>\n",
       "      <td>21.820</td>\n",
       "      <td>0.103</td>\n",
       "      <td>0.076</td>\n",
       "      <td>5643.0</td>\n",
       "      <td>6362.0</td>\n",
       "      <td>NaN</td>\n",
       "    </tr>\n",
       "    <tr>\n",
       "      <th>success_tau</th>\n",
       "      <td>0.016</td>\n",
       "      <td>0.006</td>\n",
       "      <td>0.005</td>\n",
       "      <td>0.028</td>\n",
       "      <td>0.000</td>\n",
       "      <td>0.000</td>\n",
       "      <td>12837.0</td>\n",
       "      <td>12644.0</td>\n",
       "      <td>NaN</td>\n",
       "    </tr>\n",
       "    <tr>\n",
       "      <th>success_tau_log__</th>\n",
       "      <td>-4.184</td>\n",
       "      <td>0.407</td>\n",
       "      <td>-4.932</td>\n",
       "      <td>-3.428</td>\n",
       "      <td>0.004</td>\n",
       "      <td>0.003</td>\n",
       "      <td>12837.0</td>\n",
       "      <td>12644.0</td>\n",
       "      <td>NaN</td>\n",
       "    </tr>\n",
       "    <tr>\n",
       "      <th>years_in_school</th>\n",
       "      <td>2.029</td>\n",
       "      <td>0.493</td>\n",
       "      <td>1.128</td>\n",
       "      <td>2.969</td>\n",
       "      <td>0.007</td>\n",
       "      <td>0.005</td>\n",
       "      <td>5766.0</td>\n",
       "      <td>6497.0</td>\n",
       "      <td>NaN</td>\n",
       "    </tr>\n",
       "  </tbody>\n",
       "</table>\n",
       "</div>"
      ],
      "text/plain": [
       "                    mean     sd  hdi_3%  hdi_97%  mcse_mean  mcse_sd  \\\n",
       "intercept          7.648  7.688  -7.039   21.820      0.103    0.076   \n",
       "success_tau        0.016  0.006   0.005    0.028      0.000    0.000   \n",
       "success_tau_log__ -4.184  0.407  -4.932   -3.428      0.004    0.003   \n",
       "years_in_school    2.029  0.493   1.128    2.969      0.007    0.005   \n",
       "\n",
       "                   ess_bulk  ess_tail  r_hat  \n",
       "intercept            5643.0    6362.0    NaN  \n",
       "success_tau         12837.0   12644.0    NaN  \n",
       "success_tau_log__   12837.0   12644.0    NaN  \n",
       "years_in_school      5766.0    6497.0    NaN  "
      ]
     },
     "execution_count": 4,
     "metadata": {},
     "output_type": "execute_result"
    }
   ],
   "source": [
    "az.summary(trace1)"
   ]
  },
  {
   "cell_type": "code",
   "execution_count": 5,
   "id": "ab79980c-4b1f-45fc-b985-9726b8ab9fef",
   "metadata": {},
   "outputs": [
    {
     "data": {
      "image/svg+xml": [
       "<?xml version=\"1.0\" encoding=\"UTF-8\" standalone=\"no\"?>\n",
       "<!DOCTYPE svg PUBLIC \"-//W3C//DTD SVG 1.1//EN\"\n",
       " \"http://www.w3.org/Graphics/SVG/1.1/DTD/svg11.dtd\">\n",
       "<!-- Generated by graphviz version 2.43.0 (0)\n",
       " -->\n",
       "<!-- Title: %3 Pages: 1 -->\n",
       "<svg width=\"483pt\" height=\"233pt\"\n",
       " viewBox=\"0.00 0.00 482.93 232.91\" xmlns=\"http://www.w3.org/2000/svg\" xmlns:xlink=\"http://www.w3.org/1999/xlink\">\n",
       "<g id=\"graph0\" class=\"graph\" transform=\"scale(1 1) rotate(0) translate(4 228.91)\">\n",
       "<title>%3</title>\n",
       "<polygon fill=\"white\" stroke=\"transparent\" points=\"-4,4 -4,-228.91 478.93,-228.91 478.93,4 -4,4\"/>\n",
       "<g id=\"clust1\" class=\"cluster\">\n",
       "<title>cluster15</title>\n",
       "<path fill=\"none\" stroke=\"black\" d=\"M189.51,-8C189.51,-8 323.51,-8 323.51,-8 329.51,-8 335.51,-14 335.51,-20 335.51,-20 335.51,-109.95 335.51,-109.95 335.51,-115.95 329.51,-121.95 323.51,-121.95 323.51,-121.95 189.51,-121.95 189.51,-121.95 183.51,-121.95 177.51,-115.95 177.51,-109.95 177.51,-109.95 177.51,-20 177.51,-20 177.51,-14 183.51,-8 189.51,-8\"/>\n",
       "<text text-anchor=\"middle\" x=\"318.01\" y=\"-15.8\" font-family=\"Times,serif\" font-size=\"14.00\">15</text>\n",
       "</g>\n",
       "<!-- years_in_school -->\n",
       "<g id=\"node1\" class=\"node\">\n",
       "<title>years_in_school</title>\n",
       "<ellipse fill=\"none\" stroke=\"black\" cx=\"90.51\" cy=\"-187.43\" rx=\"90.52\" ry=\"37.45\"/>\n",
       "<text text-anchor=\"middle\" x=\"90.51\" y=\"-198.73\" font-family=\"Times,serif\" font-size=\"14.00\">years_in_school</text>\n",
       "<text text-anchor=\"middle\" x=\"90.51\" y=\"-183.73\" font-family=\"Times,serif\" font-size=\"14.00\">~</text>\n",
       "<text text-anchor=\"middle\" x=\"90.51\" y=\"-168.73\" font-family=\"Times,serif\" font-size=\"14.00\">Normal</text>\n",
       "</g>\n",
       "<!-- observation -->\n",
       "<g id=\"node4\" class=\"node\">\n",
       "<title>observation</title>\n",
       "<ellipse fill=\"lightgrey\" stroke=\"black\" cx=\"256.51\" cy=\"-76.48\" rx=\"71.34\" ry=\"37.45\"/>\n",
       "<text text-anchor=\"middle\" x=\"256.51\" y=\"-87.78\" font-family=\"Times,serif\" font-size=\"14.00\">observation</text>\n",
       "<text text-anchor=\"middle\" x=\"256.51\" y=\"-72.78\" font-family=\"Times,serif\" font-size=\"14.00\">~</text>\n",
       "<text text-anchor=\"middle\" x=\"256.51\" y=\"-57.78\" font-family=\"Times,serif\" font-size=\"14.00\">Normal</text>\n",
       "</g>\n",
       "<!-- years_in_school&#45;&gt;observation -->\n",
       "<g id=\"edge1\" class=\"edge\">\n",
       "<title>years_in_school&#45;&gt;observation</title>\n",
       "<path fill=\"none\" stroke=\"black\" d=\"M138.08,-155.21C158.71,-141.67 182.93,-125.77 204.08,-111.89\"/>\n",
       "<polygon fill=\"black\" stroke=\"black\" points=\"206.19,-114.69 212.63,-106.28 202.35,-108.84 206.19,-114.69\"/>\n",
       "</g>\n",
       "<!-- intercept -->\n",
       "<g id=\"node2\" class=\"node\">\n",
       "<title>intercept</title>\n",
       "<ellipse fill=\"none\" stroke=\"black\" cx=\"256.51\" cy=\"-187.43\" rx=\"57.97\" ry=\"37.45\"/>\n",
       "<text text-anchor=\"middle\" x=\"256.51\" y=\"-198.73\" font-family=\"Times,serif\" font-size=\"14.00\">intercept</text>\n",
       "<text text-anchor=\"middle\" x=\"256.51\" y=\"-183.73\" font-family=\"Times,serif\" font-size=\"14.00\">~</text>\n",
       "<text text-anchor=\"middle\" x=\"256.51\" y=\"-168.73\" font-family=\"Times,serif\" font-size=\"14.00\">Normal</text>\n",
       "</g>\n",
       "<!-- intercept&#45;&gt;observation -->\n",
       "<g id=\"edge2\" class=\"edge\">\n",
       "<title>intercept&#45;&gt;observation</title>\n",
       "<path fill=\"none\" stroke=\"black\" d=\"M256.51,-149.85C256.51,-141.67 256.51,-132.89 256.51,-124.37\"/>\n",
       "<polygon fill=\"black\" stroke=\"black\" points=\"260.01,-124.15 256.51,-114.15 253.01,-124.15 260.01,-124.15\"/>\n",
       "</g>\n",
       "<!-- success_tau -->\n",
       "<g id=\"node3\" class=\"node\">\n",
       "<title>success_tau</title>\n",
       "<ellipse fill=\"none\" stroke=\"black\" cx=\"403.51\" cy=\"-187.43\" rx=\"71.34\" ry=\"37.45\"/>\n",
       "<text text-anchor=\"middle\" x=\"403.51\" y=\"-198.73\" font-family=\"Times,serif\" font-size=\"14.00\">success_tau</text>\n",
       "<text text-anchor=\"middle\" x=\"403.51\" y=\"-183.73\" font-family=\"Times,serif\" font-size=\"14.00\">~</text>\n",
       "<text text-anchor=\"middle\" x=\"403.51\" y=\"-168.73\" font-family=\"Times,serif\" font-size=\"14.00\">Gamma</text>\n",
       "</g>\n",
       "<!-- success_tau&#45;&gt;observation -->\n",
       "<g id=\"edge3\" class=\"edge\">\n",
       "<title>success_tau&#45;&gt;observation</title>\n",
       "<path fill=\"none\" stroke=\"black\" d=\"M362.95,-156.37C345.04,-143.09 323.83,-127.37 305.08,-113.48\"/>\n",
       "<polygon fill=\"black\" stroke=\"black\" points=\"307.05,-110.58 296.93,-107.44 302.88,-116.21 307.05,-110.58\"/>\n",
       "</g>\n",
       "</g>\n",
       "</svg>\n"
      ],
      "text/plain": [
       "<graphviz.graphs.Digraph at 0x7fb374431850>"
      ]
     },
     "execution_count": 5,
     "metadata": {},
     "output_type": "execute_result"
    }
   ],
   "source": [
    "graphviz = pm.model_to_graphviz(lr_model_1)\n",
    "graphviz"
   ]
  },
  {
   "cell_type": "code",
   "execution_count": 6,
   "id": "90d87c7d-f1b0-40c1-b21d-b9f41b457ce9",
   "metadata": {},
   "outputs": [
    {
     "data": {
      "application/vnd.jupyter.widget-view+json": {
       "model_id": "2f39903c20764fe2a4619bf9b100d6f9",
       "version_major": 2,
       "version_minor": 0
      },
      "text/plain": [
       "Output()"
      ]
     },
     "metadata": {},
     "output_type": "display_data"
    },
    {
     "data": {
      "text/html": [
       "<pre style=\"white-space:pre;overflow-x:auto;line-height:normal;font-family:Menlo,'DejaVu Sans Mono',consolas,'Courier New',monospace\"></pre>\n"
      ],
      "text/plain": []
     },
     "metadata": {},
     "output_type": "display_data"
    },
    {
     "data": {
      "text/html": [
       "<pre style=\"white-space:pre;overflow-x:auto;line-height:normal;font-family:Menlo,'DejaVu Sans Mono',consolas,'Courier New',monospace\">\n",
       "</pre>\n"
      ],
      "text/plain": [
       "\n"
      ]
     },
     "metadata": {},
     "output_type": "display_data"
    }
   ],
   "source": [
    "with lr_model_1:\n",
    "    pm.compute_log_likelihood(trace1)"
   ]
  },
  {
   "cell_type": "code",
   "execution_count": 7,
   "id": "cf00dc5c-ad01-4c11-b7c2-2b6b0e7e78ca",
   "metadata": {},
   "outputs": [
    {
     "data": {
      "text/plain": [
       "Computed from 25000 posterior samples and 15 observations log-likelihood matrix.\n",
       "\n",
       "         Estimate       SE\n",
       "elpd_loo   -54.31     2.30\n",
       "p_loo        2.68        -\n",
       "------\n",
       "\n",
       "Pareto k diagnostic values:\n",
       "                         Count   Pct.\n",
       "(-Inf, 0.5]   (good)       14   93.3%\n",
       " (0.5, 0.7]   (ok)          1    6.7%\n",
       "   (0.7, 1]   (bad)         0    0.0%\n",
       "   (1, Inf)   (very bad)    0    0.0%"
      ]
     },
     "execution_count": 7,
     "metadata": {},
     "output_type": "execute_result"
    }
   ],
   "source": [
    "az.loo(trace1)"
   ]
  },
  {
   "cell_type": "code",
   "execution_count": 8,
   "id": "f5a5bcd6-27f8-4ff2-8468-c949f8a6dcf4",
   "metadata": {},
   "outputs": [
    {
     "name": "stderr",
     "output_type": "stream",
     "text": [
      "/home/hwting/anaconda3/envs/rapids/lib/python3.11/site-packages/arviz/stats/stats.py:1632: UserWarning: For one or more samples the posterior variance of the log predictive densities exceeds 0.4. This could be indication of WAIC starting to fail. \n",
      "See http://arxiv.org/abs/1507.04544 for details\n",
      "  warnings.warn(\n"
     ]
    },
    {
     "data": {
      "text/plain": [
       "Computed from 25000 posterior samples and 15 observations log-likelihood matrix.\n",
       "\n",
       "          Estimate       SE\n",
       "elpd_waic   -54.12     2.18\n",
       "p_waic        2.48        -\n",
       "\n",
       "There has been a warning during the calculation. Please check the results."
      ]
     },
     "execution_count": 8,
     "metadata": {},
     "output_type": "execute_result"
    }
   ],
   "source": [
    "az.waic(trace1)"
   ]
  },
  {
   "cell_type": "code",
   "execution_count": 9,
   "id": "6e2e2d1f-4b7f-4bbf-9d0a-6a9555c21f7a",
   "metadata": {},
   "outputs": [
    {
     "data": {
      "text/html": [
       "\n",
       "<style>\n",
       "    :root {\n",
       "        --column-width-1: 40%; /* Progress column width */\n",
       "        --column-width-2: 15%; /* Chain column width */\n",
       "        --column-width-3: 15%; /* Divergences column width */\n",
       "        --column-width-4: 15%; /* Step Size column width */\n",
       "        --column-width-5: 15%; /* Gradients/Draw column width */\n",
       "    }\n",
       "\n",
       "    .nutpie {\n",
       "        max-width: 800px;\n",
       "        margin: 10px auto;\n",
       "        font-family: 'Segoe UI', Tahoma, Geneva, Verdana, sans-serif;\n",
       "        //color: #333;\n",
       "        //background-color: #fff;\n",
       "        padding: 10px;\n",
       "        box-shadow: 0 4px 6px rgba(0,0,0,0.1);\n",
       "        border-radius: 8px;\n",
       "        font-size: 14px; /* Smaller font size for a more compact look */\n",
       "    }\n",
       "    .nutpie table {\n",
       "        width: 100%;\n",
       "        border-collapse: collapse; /* Remove any extra space between borders */\n",
       "    }\n",
       "    .nutpie th, .nutpie td {\n",
       "        padding: 8px 10px; /* Reduce padding to make table more compact */\n",
       "        text-align: left;\n",
       "        border-bottom: 1px solid #888;\n",
       "    }\n",
       "    .nutpie th {\n",
       "        //background-color: #f0f0f0;\n",
       "    }\n",
       "\n",
       "    .nutpie th:nth-child(1) { width: var(--column-width-1); }\n",
       "    .nutpie th:nth-child(2) { width: var(--column-width-2); }\n",
       "    .nutpie th:nth-child(3) { width: var(--column-width-3); }\n",
       "    .nutpie th:nth-child(4) { width: var(--column-width-4); }\n",
       "    .nutpie th:nth-child(5) { width: var(--column-width-5); }\n",
       "\n",
       "    .nutpie progress {\n",
       "        width: 100%;\n",
       "        height: 15px; /* Smaller progress bars */\n",
       "        border-radius: 5px;\n",
       "    }\n",
       "    progress::-webkit-progress-bar {\n",
       "        background-color: #eee;\n",
       "        border-radius: 5px;\n",
       "    }\n",
       "    progress::-webkit-progress-value {\n",
       "        background-color: #5cb85c;\n",
       "        border-radius: 5px;\n",
       "    }\n",
       "    progress::-moz-progress-bar {\n",
       "        background-color: #5cb85c;\n",
       "        border-radius: 5px;\n",
       "    }\n",
       "    .nutpie .progress-cell {\n",
       "        width: 100%;\n",
       "    }\n",
       "\n",
       "    .nutpie p strong { font-size: 16px; font-weight: bold; }\n",
       "\n",
       "    @media (prefers-color-scheme: dark) {\n",
       "        .nutpie {\n",
       "            //color: #ddd;\n",
       "            //background-color: #1e1e1e;\n",
       "            box-shadow: 0 4px 6px rgba(0,0,0,0.2);\n",
       "        }\n",
       "        .nutpie table, .nutpie th, .nutpie td {\n",
       "            border-color: #555;\n",
       "            color: #ccc;\n",
       "        }\n",
       "        .nutpie th {\n",
       "            background-color: #2a2a2a;\n",
       "        }\n",
       "        .nutpie progress::-webkit-progress-bar {\n",
       "            background-color: #444;\n",
       "        }\n",
       "        .nutpie progress::-webkit-progress-value {\n",
       "            background-color: #3178c6;\n",
       "        }\n",
       "        .nutpie progress::-moz-progress-bar {\n",
       "            background-color: #3178c6;\n",
       "        }\n",
       "    }\n",
       "</style>\n"
      ],
      "text/plain": [
       "<IPython.core.display.HTML object>"
      ]
     },
     "metadata": {},
     "output_type": "display_data"
    },
    {
     "data": {
      "text/html": [
       "\n",
       "<div class=\"nutpie\">\n",
       "    <p><strong>Sampler Progress</strong></p>\n",
       "    <p>Total Chains: <span id=\"total-chains\">1</span></p>\n",
       "    <p>Active Chains: <span id=\"active-chains\">0</span></p>\n",
       "    <p>\n",
       "        Finished Chains:\n",
       "        <span id=\"active-chains\">1</span>\n",
       "    </p>\n",
       "    <p>Sampling for now</p>\n",
       "    <p>\n",
       "        Estimated Time to Completion:\n",
       "        <span id=\"eta\">now</span>\n",
       "    </p>\n",
       "\n",
       "    <progress\n",
       "        id=\"total-progress-bar\"\n",
       "        max=\"30000\"\n",
       "        value=\"30000\">\n",
       "    </progress>\n",
       "    <table>\n",
       "        <thead>\n",
       "            <tr>\n",
       "                <th>Progress</th>\n",
       "                <th>Draws</th>\n",
       "                <th>Divergences</th>\n",
       "                <th>Step Size</th>\n",
       "                <th>Gradients/Draw</th>\n",
       "            </tr>\n",
       "        </thead>\n",
       "        <tbody id=\"chain-details\">\n",
       "            \n",
       "                <tr>\n",
       "                    <td class=\"progress-cell\">\n",
       "                        <progress\n",
       "                            max=\"30000\"\n",
       "                            value=\"30000\">\n",
       "                        </progress>\n",
       "                    </td>\n",
       "                    <td>30000</td>\n",
       "                    <td>0</td>\n",
       "                    <td>0.71</td>\n",
       "                    <td>7</td>\n",
       "                </tr>\n",
       "            \n",
       "            </tr>\n",
       "        </tbody>\n",
       "    </table>\n",
       "</div>\n"
      ],
      "text/plain": [
       "<nutpie.sample._BackgroundSampler at 0x7fb360869d10>"
      ]
     },
     "metadata": {},
     "output_type": "display_data"
    }
   ],
   "source": [
    "with pm.Model() as lr_model_2:\n",
    "    b_0 = pm.Normal('intercept', mu=0, tau=0.0001)\n",
    "    b_1 = pm.Normal('grit', mu=0, tau=0.0001)\n",
    "    tau = pm.Gamma('success_tau', alpha=0.01, beta=0.01)\n",
    "\n",
    "    mu = b_0 + b_1 * grit\n",
    "    obs = pm.Normal('observation', mu=mu, tau=tau, observed=success)\n",
    "    step = pm.NUTS()\n",
    "    trace2 = pm.sample(25000, step=step, tune=5000, chains=1, nuts_sampler=\"nutpie\")"
   ]
  },
  {
   "cell_type": "code",
   "execution_count": 10,
   "id": "4cba87c5-9359-4f3b-b9ac-d3476e180ecb",
   "metadata": {},
   "outputs": [
    {
     "name": "stderr",
     "output_type": "stream",
     "text": [
      "arviz - WARNING - Shape validation failed: input_shape: (1, 25000), minimum_shape: (chains=2, draws=4)\n"
     ]
    },
    {
     "data": {
      "text/html": [
       "<div>\n",
       "<style scoped>\n",
       "    .dataframe tbody tr th:only-of-type {\n",
       "        vertical-align: middle;\n",
       "    }\n",
       "\n",
       "    .dataframe tbody tr th {\n",
       "        vertical-align: top;\n",
       "    }\n",
       "\n",
       "    .dataframe thead th {\n",
       "        text-align: right;\n",
       "    }\n",
       "</style>\n",
       "<table border=\"1\" class=\"dataframe\">\n",
       "  <thead>\n",
       "    <tr style=\"text-align: right;\">\n",
       "      <th></th>\n",
       "      <th>mean</th>\n",
       "      <th>sd</th>\n",
       "      <th>hdi_3%</th>\n",
       "      <th>hdi_97%</th>\n",
       "      <th>mcse_mean</th>\n",
       "      <th>mcse_sd</th>\n",
       "      <th>ess_bulk</th>\n",
       "      <th>ess_tail</th>\n",
       "      <th>r_hat</th>\n",
       "    </tr>\n",
       "  </thead>\n",
       "  <tbody>\n",
       "    <tr>\n",
       "      <th>grit</th>\n",
       "      <td>6.396</td>\n",
       "      <td>1.147</td>\n",
       "      <td>4.209</td>\n",
       "      <td>8.524</td>\n",
       "      <td>0.013</td>\n",
       "      <td>0.009</td>\n",
       "      <td>8028.0</td>\n",
       "      <td>10133.0</td>\n",
       "      <td>NaN</td>\n",
       "    </tr>\n",
       "    <tr>\n",
       "      <th>intercept</th>\n",
       "      <td>24.627</td>\n",
       "      <td>3.007</td>\n",
       "      <td>18.797</td>\n",
       "      <td>30.197</td>\n",
       "      <td>0.034</td>\n",
       "      <td>0.024</td>\n",
       "      <td>7929.0</td>\n",
       "      <td>9529.0</td>\n",
       "      <td>NaN</td>\n",
       "    </tr>\n",
       "    <tr>\n",
       "      <th>success_tau</th>\n",
       "      <td>0.026</td>\n",
       "      <td>0.010</td>\n",
       "      <td>0.008</td>\n",
       "      <td>0.045</td>\n",
       "      <td>0.000</td>\n",
       "      <td>0.000</td>\n",
       "      <td>11519.0</td>\n",
       "      <td>12358.0</td>\n",
       "      <td>NaN</td>\n",
       "    </tr>\n",
       "    <tr>\n",
       "      <th>success_tau_log__</th>\n",
       "      <td>-3.737</td>\n",
       "      <td>0.409</td>\n",
       "      <td>-4.501</td>\n",
       "      <td>-2.972</td>\n",
       "      <td>0.004</td>\n",
       "      <td>0.003</td>\n",
       "      <td>11519.0</td>\n",
       "      <td>12358.0</td>\n",
       "      <td>NaN</td>\n",
       "    </tr>\n",
       "  </tbody>\n",
       "</table>\n",
       "</div>"
      ],
      "text/plain": [
       "                     mean     sd  hdi_3%  hdi_97%  mcse_mean  mcse_sd  \\\n",
       "grit                6.396  1.147   4.209    8.524      0.013    0.009   \n",
       "intercept          24.627  3.007  18.797   30.197      0.034    0.024   \n",
       "success_tau         0.026  0.010   0.008    0.045      0.000    0.000   \n",
       "success_tau_log__  -3.737  0.409  -4.501   -2.972      0.004    0.003   \n",
       "\n",
       "                   ess_bulk  ess_tail  r_hat  \n",
       "grit                 8028.0   10133.0    NaN  \n",
       "intercept            7929.0    9529.0    NaN  \n",
       "success_tau         11519.0   12358.0    NaN  \n",
       "success_tau_log__   11519.0   12358.0    NaN  "
      ]
     },
     "execution_count": 10,
     "metadata": {},
     "output_type": "execute_result"
    }
   ],
   "source": [
    "az.summary(trace2)"
   ]
  },
  {
   "cell_type": "code",
   "execution_count": 11,
   "id": "8975d0b1-73df-4163-94ba-f883a8a66e26",
   "metadata": {},
   "outputs": [
    {
     "data": {
      "image/svg+xml": [
       "<?xml version=\"1.0\" encoding=\"UTF-8\" standalone=\"no\"?>\n",
       "<!DOCTYPE svg PUBLIC \"-//W3C//DTD SVG 1.1//EN\"\n",
       " \"http://www.w3.org/Graphics/SVG/1.1/DTD/svg11.dtd\">\n",
       "<!-- Generated by graphviz version 2.43.0 (0)\n",
       " -->\n",
       "<!-- Title: %3 Pages: 1 -->\n",
       "<svg width=\"401pt\" height=\"233pt\"\n",
       " viewBox=\"0.00 0.00 400.92 232.91\" xmlns=\"http://www.w3.org/2000/svg\" xmlns:xlink=\"http://www.w3.org/1999/xlink\">\n",
       "<g id=\"graph0\" class=\"graph\" transform=\"scale(1 1) rotate(0) translate(4 228.91)\">\n",
       "<title>%3</title>\n",
       "<polygon fill=\"white\" stroke=\"transparent\" points=\"-4,4 -4,-228.91 396.92,-228.91 396.92,4 -4,4\"/>\n",
       "<g id=\"clust1\" class=\"cluster\">\n",
       "<title>cluster15</title>\n",
       "<path fill=\"none\" stroke=\"black\" d=\"M107.5,-8C107.5,-8 241.5,-8 241.5,-8 247.5,-8 253.5,-14 253.5,-20 253.5,-20 253.5,-109.95 253.5,-109.95 253.5,-115.95 247.5,-121.95 241.5,-121.95 241.5,-121.95 107.5,-121.95 107.5,-121.95 101.5,-121.95 95.5,-115.95 95.5,-109.95 95.5,-109.95 95.5,-20 95.5,-20 95.5,-14 101.5,-8 107.5,-8\"/>\n",
       "<text text-anchor=\"middle\" x=\"236\" y=\"-15.8\" font-family=\"Times,serif\" font-size=\"14.00\">15</text>\n",
       "</g>\n",
       "<!-- grit -->\n",
       "<g id=\"node1\" class=\"node\">\n",
       "<title>grit</title>\n",
       "<ellipse fill=\"none\" stroke=\"black\" cx=\"49.5\" cy=\"-187.43\" rx=\"49.49\" ry=\"37.45\"/>\n",
       "<text text-anchor=\"middle\" x=\"49.5\" y=\"-198.73\" font-family=\"Times,serif\" font-size=\"14.00\">grit</text>\n",
       "<text text-anchor=\"middle\" x=\"49.5\" y=\"-183.73\" font-family=\"Times,serif\" font-size=\"14.00\">~</text>\n",
       "<text text-anchor=\"middle\" x=\"49.5\" y=\"-168.73\" font-family=\"Times,serif\" font-size=\"14.00\">Normal</text>\n",
       "</g>\n",
       "<!-- observation -->\n",
       "<g id=\"node4\" class=\"node\">\n",
       "<title>observation</title>\n",
       "<ellipse fill=\"lightgrey\" stroke=\"black\" cx=\"174.5\" cy=\"-76.48\" rx=\"71.34\" ry=\"37.45\"/>\n",
       "<text text-anchor=\"middle\" x=\"174.5\" y=\"-87.78\" font-family=\"Times,serif\" font-size=\"14.00\">observation</text>\n",
       "<text text-anchor=\"middle\" x=\"174.5\" y=\"-72.78\" font-family=\"Times,serif\" font-size=\"14.00\">~</text>\n",
       "<text text-anchor=\"middle\" x=\"174.5\" y=\"-57.78\" font-family=\"Times,serif\" font-size=\"14.00\">Normal</text>\n",
       "</g>\n",
       "<!-- grit&#45;&gt;observation -->\n",
       "<g id=\"edge1\" class=\"edge\">\n",
       "<title>grit&#45;&gt;observation</title>\n",
       "<path fill=\"none\" stroke=\"black\" d=\"M81.36,-158.65C96.28,-145.65 114.29,-129.95 130.49,-115.84\"/>\n",
       "<polygon fill=\"black\" stroke=\"black\" points=\"133.03,-118.26 138.27,-109.05 128.43,-112.99 133.03,-118.26\"/>\n",
       "</g>\n",
       "<!-- intercept -->\n",
       "<g id=\"node2\" class=\"node\">\n",
       "<title>intercept</title>\n",
       "<ellipse fill=\"none\" stroke=\"black\" cx=\"174.5\" cy=\"-187.43\" rx=\"57.97\" ry=\"37.45\"/>\n",
       "<text text-anchor=\"middle\" x=\"174.5\" y=\"-198.73\" font-family=\"Times,serif\" font-size=\"14.00\">intercept</text>\n",
       "<text text-anchor=\"middle\" x=\"174.5\" y=\"-183.73\" font-family=\"Times,serif\" font-size=\"14.00\">~</text>\n",
       "<text text-anchor=\"middle\" x=\"174.5\" y=\"-168.73\" font-family=\"Times,serif\" font-size=\"14.00\">Normal</text>\n",
       "</g>\n",
       "<!-- intercept&#45;&gt;observation -->\n",
       "<g id=\"edge2\" class=\"edge\">\n",
       "<title>intercept&#45;&gt;observation</title>\n",
       "<path fill=\"none\" stroke=\"black\" d=\"M174.5,-149.85C174.5,-141.67 174.5,-132.89 174.5,-124.37\"/>\n",
       "<polygon fill=\"black\" stroke=\"black\" points=\"178,-124.15 174.5,-114.15 171,-124.15 178,-124.15\"/>\n",
       "</g>\n",
       "<!-- success_tau -->\n",
       "<g id=\"node3\" class=\"node\">\n",
       "<title>success_tau</title>\n",
       "<ellipse fill=\"none\" stroke=\"black\" cx=\"321.5\" cy=\"-187.43\" rx=\"71.34\" ry=\"37.45\"/>\n",
       "<text text-anchor=\"middle\" x=\"321.5\" y=\"-198.73\" font-family=\"Times,serif\" font-size=\"14.00\">success_tau</text>\n",
       "<text text-anchor=\"middle\" x=\"321.5\" y=\"-183.73\" font-family=\"Times,serif\" font-size=\"14.00\">~</text>\n",
       "<text text-anchor=\"middle\" x=\"321.5\" y=\"-168.73\" font-family=\"Times,serif\" font-size=\"14.00\">Gamma</text>\n",
       "</g>\n",
       "<!-- success_tau&#45;&gt;observation -->\n",
       "<g id=\"edge3\" class=\"edge\">\n",
       "<title>success_tau&#45;&gt;observation</title>\n",
       "<path fill=\"none\" stroke=\"black\" d=\"M280.94,-156.37C263.03,-143.09 241.82,-127.37 223.07,-113.48\"/>\n",
       "<polygon fill=\"black\" stroke=\"black\" points=\"225.04,-110.58 214.92,-107.44 220.87,-116.21 225.04,-110.58\"/>\n",
       "</g>\n",
       "</g>\n",
       "</svg>\n"
      ],
      "text/plain": [
       "<graphviz.graphs.Digraph at 0x7fb3719dac90>"
      ]
     },
     "execution_count": 11,
     "metadata": {},
     "output_type": "execute_result"
    }
   ],
   "source": [
    "graphviz = pm.model_to_graphviz(lr_model_2)\n",
    "graphviz"
   ]
  },
  {
   "cell_type": "code",
   "execution_count": 12,
   "id": "20f245bf-4007-4074-97b5-11499a4b2545",
   "metadata": {},
   "outputs": [
    {
     "data": {
      "application/vnd.jupyter.widget-view+json": {
       "model_id": "794980d18d6249328cc2249db5df6f81",
       "version_major": 2,
       "version_minor": 0
      },
      "text/plain": [
       "Output()"
      ]
     },
     "metadata": {},
     "output_type": "display_data"
    },
    {
     "data": {
      "text/html": [
       "<pre style=\"white-space:pre;overflow-x:auto;line-height:normal;font-family:Menlo,'DejaVu Sans Mono',consolas,'Courier New',monospace\"></pre>\n"
      ],
      "text/plain": []
     },
     "metadata": {},
     "output_type": "display_data"
    },
    {
     "data": {
      "text/html": [
       "<pre style=\"white-space:pre;overflow-x:auto;line-height:normal;font-family:Menlo,'DejaVu Sans Mono',consolas,'Courier New',monospace\">\n",
       "</pre>\n"
      ],
      "text/plain": [
       "\n"
      ]
     },
     "metadata": {},
     "output_type": "display_data"
    }
   ],
   "source": [
    "with lr_model_2:\n",
    "    pm.compute_log_likelihood(trace2)"
   ]
  },
  {
   "cell_type": "code",
   "execution_count": 13,
   "id": "b31504bd-957f-45aa-9000-ed839ae31c12",
   "metadata": {},
   "outputs": [
    {
     "name": "stderr",
     "output_type": "stream",
     "text": [
      "/home/hwting/anaconda3/envs/rapids/lib/python3.11/site-packages/arviz/stats/stats.py:789: UserWarning: Estimated shape parameter of Pareto distribution is greater than 0.7 for one or more samples. You should consider using a more robust model, this is because importance sampling is less likely to work well if the marginal posterior and LOO posterior are very different. This is more likely to happen with a non-robust model and highly influential observations.\n",
      "  warnings.warn(\n"
     ]
    },
    {
     "data": {
      "text/plain": [
       "Computed from 25000 posterior samples and 15 observations log-likelihood matrix.\n",
       "\n",
       "         Estimate       SE\n",
       "elpd_loo   -51.09     2.83\n",
       "p_loo        2.87        -\n",
       "\n",
       "There has been a warning during the calculation. Please check the results.\n",
       "------\n",
       "\n",
       "Pareto k diagnostic values:\n",
       "                         Count   Pct.\n",
       "(-Inf, 0.5]   (good)       14   93.3%\n",
       " (0.5, 0.7]   (ok)          0    0.0%\n",
       "   (0.7, 1]   (bad)         1    6.7%\n",
       "   (1, Inf)   (very bad)    0    0.0%"
      ]
     },
     "execution_count": 13,
     "metadata": {},
     "output_type": "execute_result"
    }
   ],
   "source": [
    "az.loo(trace2)"
   ]
  },
  {
   "cell_type": "code",
   "execution_count": 14,
   "id": "89fc4572-82e4-4b5a-b83b-a5b6fa82677f",
   "metadata": {},
   "outputs": [
    {
     "name": "stderr",
     "output_type": "stream",
     "text": [
      "/home/hwting/anaconda3/envs/rapids/lib/python3.11/site-packages/arviz/stats/stats.py:1632: UserWarning: For one or more samples the posterior variance of the log predictive densities exceeds 0.4. This could be indication of WAIC starting to fail. \n",
      "See http://arxiv.org/abs/1507.04544 for details\n",
      "  warnings.warn(\n"
     ]
    },
    {
     "data": {
      "text/plain": [
       "Computed from 25000 posterior samples and 15 observations log-likelihood matrix.\n",
       "\n",
       "          Estimate       SE\n",
       "elpd_waic   -50.87     2.67\n",
       "p_waic        2.64        -\n",
       "\n",
       "There has been a warning during the calculation. Please check the results."
      ]
     },
     "execution_count": 14,
     "metadata": {},
     "output_type": "execute_result"
    }
   ],
   "source": [
    "az.waic(trace2)"
   ]
  },
  {
   "cell_type": "code",
   "execution_count": 15,
   "id": "62c554ae-0ac7-4097-998b-88f8820c41db",
   "metadata": {},
   "outputs": [
    {
     "name": "stderr",
     "output_type": "stream",
     "text": [
      "/home/hwting/anaconda3/envs/rapids/lib/python3.11/site-packages/arviz/stats/stats.py:789: UserWarning: Estimated shape parameter of Pareto distribution is greater than 0.7 for one or more samples. You should consider using a more robust model, this is because importance sampling is less likely to work well if the marginal posterior and LOO posterior are very different. This is more likely to happen with a non-robust model and highly influential observations.\n",
      "  warnings.warn(\n"
     ]
    },
    {
     "data": {
      "text/html": [
       "<div>\n",
       "<style scoped>\n",
       "    .dataframe tbody tr th:only-of-type {\n",
       "        vertical-align: middle;\n",
       "    }\n",
       "\n",
       "    .dataframe tbody tr th {\n",
       "        vertical-align: top;\n",
       "    }\n",
       "\n",
       "    .dataframe thead th {\n",
       "        text-align: right;\n",
       "    }\n",
       "</style>\n",
       "<table border=\"1\" class=\"dataframe\">\n",
       "  <thead>\n",
       "    <tr style=\"text-align: right;\">\n",
       "      <th></th>\n",
       "      <th>rank</th>\n",
       "      <th>elpd_loo</th>\n",
       "      <th>p_loo</th>\n",
       "      <th>elpd_diff</th>\n",
       "      <th>weight</th>\n",
       "      <th>se</th>\n",
       "      <th>dse</th>\n",
       "      <th>warning</th>\n",
       "      <th>scale</th>\n",
       "    </tr>\n",
       "  </thead>\n",
       "  <tbody>\n",
       "    <tr>\n",
       "      <th>model2</th>\n",
       "      <td>0</td>\n",
       "      <td>-51.092608</td>\n",
       "      <td>2.869989</td>\n",
       "      <td>0.000000</td>\n",
       "      <td>1.000000e+00</td>\n",
       "      <td>2.833467</td>\n",
       "      <td>0.000000</td>\n",
       "      <td>True</td>\n",
       "      <td>log</td>\n",
       "    </tr>\n",
       "    <tr>\n",
       "      <th>model1</th>\n",
       "      <td>1</td>\n",
       "      <td>-54.314821</td>\n",
       "      <td>2.680641</td>\n",
       "      <td>3.222213</td>\n",
       "      <td>4.440892e-16</td>\n",
       "      <td>2.303381</td>\n",
       "      <td>2.004624</td>\n",
       "      <td>False</td>\n",
       "      <td>log</td>\n",
       "    </tr>\n",
       "  </tbody>\n",
       "</table>\n",
       "</div>"
      ],
      "text/plain": [
       "        rank   elpd_loo     p_loo  elpd_diff        weight        se  \\\n",
       "model2     0 -51.092608  2.869989   0.000000  1.000000e+00  2.833467   \n",
       "model1     1 -54.314821  2.680641   3.222213  4.440892e-16  2.303381   \n",
       "\n",
       "             dse  warning scale  \n",
       "model2  0.000000     True   log  \n",
       "model1  2.004624    False   log  "
      ]
     },
     "execution_count": 15,
     "metadata": {},
     "output_type": "execute_result"
    }
   ],
   "source": [
    "df_compare_loo = az.compare({\"model1\": trace1, \"model2\": trace2}, ic=\"loo\")\n",
    "df_compare_loo"
   ]
  },
  {
   "cell_type": "code",
   "execution_count": 16,
   "id": "f8d2362f-783f-4e12-8a8b-8809670ef7a0",
   "metadata": {},
   "outputs": [
    {
     "name": "stderr",
     "output_type": "stream",
     "text": [
      "/home/hwting/anaconda3/envs/rapids/lib/python3.11/site-packages/arviz/stats/stats.py:1632: UserWarning: For one or more samples the posterior variance of the log predictive densities exceeds 0.4. This could be indication of WAIC starting to fail. \n",
      "See http://arxiv.org/abs/1507.04544 for details\n",
      "  warnings.warn(\n",
      "/home/hwting/anaconda3/envs/rapids/lib/python3.11/site-packages/arviz/stats/stats.py:1632: UserWarning: For one or more samples the posterior variance of the log predictive densities exceeds 0.4. This could be indication of WAIC starting to fail. \n",
      "See http://arxiv.org/abs/1507.04544 for details\n",
      "  warnings.warn(\n"
     ]
    },
    {
     "data": {
      "text/html": [
       "<div>\n",
       "<style scoped>\n",
       "    .dataframe tbody tr th:only-of-type {\n",
       "        vertical-align: middle;\n",
       "    }\n",
       "\n",
       "    .dataframe tbody tr th {\n",
       "        vertical-align: top;\n",
       "    }\n",
       "\n",
       "    .dataframe thead th {\n",
       "        text-align: right;\n",
       "    }\n",
       "</style>\n",
       "<table border=\"1\" class=\"dataframe\">\n",
       "  <thead>\n",
       "    <tr style=\"text-align: right;\">\n",
       "      <th></th>\n",
       "      <th>rank</th>\n",
       "      <th>elpd_waic</th>\n",
       "      <th>p_waic</th>\n",
       "      <th>elpd_diff</th>\n",
       "      <th>weight</th>\n",
       "      <th>se</th>\n",
       "      <th>dse</th>\n",
       "      <th>warning</th>\n",
       "      <th>scale</th>\n",
       "    </tr>\n",
       "  </thead>\n",
       "  <tbody>\n",
       "    <tr>\n",
       "      <th>model2</th>\n",
       "      <td>0</td>\n",
       "      <td>-50.865170</td>\n",
       "      <td>2.642552</td>\n",
       "      <td>0.000000</td>\n",
       "      <td>1.000000e+00</td>\n",
       "      <td>2.667853</td>\n",
       "      <td>0.000000</td>\n",
       "      <td>True</td>\n",
       "      <td>log</td>\n",
       "    </tr>\n",
       "    <tr>\n",
       "      <th>model1</th>\n",
       "      <td>1</td>\n",
       "      <td>-54.118425</td>\n",
       "      <td>2.484245</td>\n",
       "      <td>3.253255</td>\n",
       "      <td>1.332268e-15</td>\n",
       "      <td>2.183857</td>\n",
       "      <td>1.977936</td>\n",
       "      <td>True</td>\n",
       "      <td>log</td>\n",
       "    </tr>\n",
       "  </tbody>\n",
       "</table>\n",
       "</div>"
      ],
      "text/plain": [
       "        rank  elpd_waic    p_waic  elpd_diff        weight        se  \\\n",
       "model2     0 -50.865170  2.642552   0.000000  1.000000e+00  2.667853   \n",
       "model1     1 -54.118425  2.484245   3.253255  1.332268e-15  2.183857   \n",
       "\n",
       "             dse  warning scale  \n",
       "model2  0.000000     True   log  \n",
       "model1  1.977936     True   log  "
      ]
     },
     "execution_count": 16,
     "metadata": {},
     "output_type": "execute_result"
    }
   ],
   "source": [
    "df_compare_waic = az.compare({\"model1\": trace1, \"model2\": trace2}, ic=\"waic\")\n",
    "df_compare_waic"
   ]
  },
  {
   "cell_type": "markdown",
   "id": "9cf7dfe1-49af-409e-86ad-16517bfe3768",
   "metadata": {},
   "source": [
    "## Bambi"
   ]
  },
  {
   "cell_type": "code",
   "execution_count": 17,
   "id": "7cb46b2baa9ecd55",
   "metadata": {
    "ExecuteTime": {
     "start_time": "2024-05-26T12:55:31.075472Z"
    },
    "executionInfo": {
     "elapsed": 6,
     "status": "ok",
     "timestamp": 1716712493134,
     "user": {
      "displayName": "Howard Ting",
      "userId": "11297780970646226888"
     },
     "user_tz": -480
    },
    "id": "7cb46b2baa9ecd55",
    "jupyter": {
     "is_executing": true
    }
   },
   "outputs": [
    {
     "name": "stderr",
     "output_type": "stream",
     "text": [
      "Auto-assigning NUTS sampler...\n",
      "Initializing NUTS using jitter+adapt_diag...\n",
      "Sequential sampling (1 chains in 1 job)\n",
      "NUTS: [Success_sigma, Intercept, Years_in_School]\n"
     ]
    },
    {
     "data": {
      "application/vnd.jupyter.widget-view+json": {
       "model_id": "f563d1d6eba34569b4467510e37f9887",
       "version_major": 2,
       "version_minor": 0
      },
      "text/plain": [
       "Output()"
      ]
     },
     "metadata": {},
     "output_type": "display_data"
    },
    {
     "data": {
      "text/html": [
       "<pre style=\"white-space:pre;overflow-x:auto;line-height:normal;font-family:Menlo,'DejaVu Sans Mono',consolas,'Courier New',monospace\"></pre>\n"
      ],
      "text/plain": []
     },
     "metadata": {},
     "output_type": "display_data"
    },
    {
     "data": {
      "text/html": [
       "<pre style=\"white-space:pre;overflow-x:auto;line-height:normal;font-family:Menlo,'DejaVu Sans Mono',consolas,'Courier New',monospace\">\n",
       "</pre>\n"
      ],
      "text/plain": [
       "\n"
      ]
     },
     "metadata": {},
     "output_type": "display_data"
    },
    {
     "name": "stderr",
     "output_type": "stream",
     "text": [
      "Sampling 1 chain for 5_000 tune and 25_000 draw iterations (5_000 + 25_000 draws total) took 14 seconds.\n",
      "Only one chain was sampled, this makes it impossible to run some convergence checks\n"
     ]
    }
   ],
   "source": [
    "model1 = bmb.Model('Success ~ Years_in_School', data=data)\n",
    "results1 = model1.fit(draws=25000, tune=5000, chains=1)"
   ]
  },
  {
   "cell_type": "code",
   "execution_count": 18,
   "id": "36193814-81b0-49c0-a641-8c4e3f5d6b10",
   "metadata": {},
   "outputs": [
    {
     "data": {
      "image/svg+xml": [
       "<?xml version=\"1.0\" encoding=\"UTF-8\" standalone=\"no\"?>\n",
       "<!DOCTYPE svg PUBLIC \"-//W3C//DTD SVG 1.1//EN\"\n",
       " \"http://www.w3.org/Graphics/SVG/1.1/DTD/svg11.dtd\">\n",
       "<!-- Generated by graphviz version 2.43.0 (0)\n",
       " -->\n",
       "<!-- Title: %3 Pages: 1 -->\n",
       "<svg width=\"520pt\" height=\"233pt\"\n",
       " viewBox=\"0.00 0.00 519.90 232.91\" xmlns=\"http://www.w3.org/2000/svg\" xmlns:xlink=\"http://www.w3.org/1999/xlink\">\n",
       "<g id=\"graph0\" class=\"graph\" transform=\"scale(1 1) rotate(0) translate(4 228.91)\">\n",
       "<title>%3</title>\n",
       "<polygon fill=\"white\" stroke=\"transparent\" points=\"-4,4 -4,-228.91 515.9,-228.91 515.9,4 -4,4\"/>\n",
       "<g id=\"clust1\" class=\"cluster\">\n",
       "<title>clusterSuccess_obs (15)</title>\n",
       "<path fill=\"none\" stroke=\"black\" d=\"M203.92,-8C203.92,-8 317.92,-8 317.92,-8 323.92,-8 329.92,-14 329.92,-20 329.92,-20 329.92,-109.95 329.92,-109.95 329.92,-115.95 323.92,-121.95 317.92,-121.95 317.92,-121.95 203.92,-121.95 203.92,-121.95 197.92,-121.95 191.92,-115.95 191.92,-109.95 191.92,-109.95 191.92,-20 191.92,-20 191.92,-14 197.92,-8 203.92,-8\"/>\n",
       "<text text-anchor=\"middle\" x=\"260.92\" y=\"-15.8\" font-family=\"Times,serif\" font-size=\"14.00\">Success_obs (15)</text>\n",
       "</g>\n",
       "<!-- Years_in_School -->\n",
       "<g id=\"node1\" class=\"node\">\n",
       "<title>Years_in_School</title>\n",
       "<ellipse fill=\"none\" stroke=\"black\" cx=\"91.92\" cy=\"-187.43\" rx=\"91.85\" ry=\"37.45\"/>\n",
       "<text text-anchor=\"middle\" x=\"91.92\" y=\"-198.73\" font-family=\"Times,serif\" font-size=\"14.00\">Years_in_School</text>\n",
       "<text text-anchor=\"middle\" x=\"91.92\" y=\"-183.73\" font-family=\"Times,serif\" font-size=\"14.00\">~</text>\n",
       "<text text-anchor=\"middle\" x=\"91.92\" y=\"-168.73\" font-family=\"Times,serif\" font-size=\"14.00\">Normal</text>\n",
       "</g>\n",
       "<!-- Success -->\n",
       "<g id=\"node4\" class=\"node\">\n",
       "<title>Success</title>\n",
       "<ellipse fill=\"lightgrey\" stroke=\"black\" cx=\"260.92\" cy=\"-76.48\" rx=\"52.15\" ry=\"37.45\"/>\n",
       "<text text-anchor=\"middle\" x=\"260.92\" y=\"-87.78\" font-family=\"Times,serif\" font-size=\"14.00\">Success</text>\n",
       "<text text-anchor=\"middle\" x=\"260.92\" y=\"-72.78\" font-family=\"Times,serif\" font-size=\"14.00\">~</text>\n",
       "<text text-anchor=\"middle\" x=\"260.92\" y=\"-57.78\" font-family=\"Times,serif\" font-size=\"14.00\">Normal</text>\n",
       "</g>\n",
       "<!-- Years_in_School&#45;&gt;Success -->\n",
       "<g id=\"edge1\" class=\"edge\">\n",
       "<title>Years_in_School&#45;&gt;Success</title>\n",
       "<path fill=\"none\" stroke=\"black\" d=\"M140.35,-155.21C163.53,-140.27 191.17,-122.45 214.13,-107.64\"/>\n",
       "<polygon fill=\"black\" stroke=\"black\" points=\"216.18,-110.49 222.68,-102.13 212.38,-104.61 216.18,-110.49\"/>\n",
       "</g>\n",
       "<!-- Intercept -->\n",
       "<g id=\"node2\" class=\"node\">\n",
       "<title>Intercept</title>\n",
       "<ellipse fill=\"none\" stroke=\"black\" cx=\"260.92\" cy=\"-187.43\" rx=\"58.88\" ry=\"37.45\"/>\n",
       "<text text-anchor=\"middle\" x=\"260.92\" y=\"-198.73\" font-family=\"Times,serif\" font-size=\"14.00\">Intercept</text>\n",
       "<text text-anchor=\"middle\" x=\"260.92\" y=\"-183.73\" font-family=\"Times,serif\" font-size=\"14.00\">~</text>\n",
       "<text text-anchor=\"middle\" x=\"260.92\" y=\"-168.73\" font-family=\"Times,serif\" font-size=\"14.00\">Normal</text>\n",
       "</g>\n",
       "<!-- Intercept&#45;&gt;Success -->\n",
       "<g id=\"edge2\" class=\"edge\">\n",
       "<title>Intercept&#45;&gt;Success</title>\n",
       "<path fill=\"none\" stroke=\"black\" d=\"M260.92,-149.85C260.92,-141.67 260.92,-132.89 260.92,-124.37\"/>\n",
       "<polygon fill=\"black\" stroke=\"black\" points=\"264.42,-124.15 260.92,-114.15 257.42,-124.15 264.42,-124.15\"/>\n",
       "</g>\n",
       "<!-- Success_sigma -->\n",
       "<g id=\"node3\" class=\"node\">\n",
       "<title>Success_sigma</title>\n",
       "<ellipse fill=\"none\" stroke=\"black\" cx=\"424.92\" cy=\"-187.43\" rx=\"86.95\" ry=\"37.45\"/>\n",
       "<text text-anchor=\"middle\" x=\"424.92\" y=\"-198.73\" font-family=\"Times,serif\" font-size=\"14.00\">Success_sigma</text>\n",
       "<text text-anchor=\"middle\" x=\"424.92\" y=\"-183.73\" font-family=\"Times,serif\" font-size=\"14.00\">~</text>\n",
       "<text text-anchor=\"middle\" x=\"424.92\" y=\"-168.73\" font-family=\"Times,serif\" font-size=\"14.00\">HalfStudentT</text>\n",
       "</g>\n",
       "<!-- Success_sigma&#45;&gt;Success -->\n",
       "<g id=\"edge3\" class=\"edge\">\n",
       "<title>Success_sigma&#45;&gt;Success</title>\n",
       "<path fill=\"none\" stroke=\"black\" d=\"M378.37,-155.5C356.13,-140.73 329.58,-123.09 307.36,-108.33\"/>\n",
       "<polygon fill=\"black\" stroke=\"black\" points=\"309.03,-105.23 298.76,-102.61 305.15,-111.06 309.03,-105.23\"/>\n",
       "</g>\n",
       "</g>\n",
       "</svg>\n"
      ],
      "text/plain": [
       "<graphviz.graphs.Digraph at 0x7fb371beac90>"
      ]
     },
     "execution_count": 18,
     "metadata": {},
     "output_type": "execute_result"
    }
   ],
   "source": [
    "graphviz = pm.model_to_graphviz(model1.backend.model)\n",
    "graphviz"
   ]
  },
  {
   "cell_type": "code",
   "execution_count": 19,
   "id": "ad7a6497aed5465",
   "metadata": {},
   "outputs": [
    {
     "name": "stderr",
     "output_type": "stream",
     "text": [
      "arviz - WARNING - Shape validation failed: input_shape: (1, 25000), minimum_shape: (chains=2, draws=4)\n"
     ]
    },
    {
     "data": {
      "text/html": [
       "<div>\n",
       "<style scoped>\n",
       "    .dataframe tbody tr th:only-of-type {\n",
       "        vertical-align: middle;\n",
       "    }\n",
       "\n",
       "    .dataframe tbody tr th {\n",
       "        vertical-align: top;\n",
       "    }\n",
       "\n",
       "    .dataframe thead th {\n",
       "        text-align: right;\n",
       "    }\n",
       "</style>\n",
       "<table border=\"1\" class=\"dataframe\">\n",
       "  <thead>\n",
       "    <tr style=\"text-align: right;\">\n",
       "      <th></th>\n",
       "      <th>mean</th>\n",
       "      <th>sd</th>\n",
       "      <th>hdi_3%</th>\n",
       "      <th>hdi_97%</th>\n",
       "      <th>mcse_mean</th>\n",
       "      <th>mcse_sd</th>\n",
       "      <th>ess_bulk</th>\n",
       "      <th>ess_tail</th>\n",
       "      <th>r_hat</th>\n",
       "    </tr>\n",
       "  </thead>\n",
       "  <tbody>\n",
       "    <tr>\n",
       "      <th>Intercept</th>\n",
       "      <td>7.983</td>\n",
       "      <td>7.956</td>\n",
       "      <td>-7.250</td>\n",
       "      <td>22.697</td>\n",
       "      <td>0.053</td>\n",
       "      <td>0.043</td>\n",
       "      <td>22794.0</td>\n",
       "      <td>16269.0</td>\n",
       "      <td>NaN</td>\n",
       "    </tr>\n",
       "    <tr>\n",
       "      <th>Success_sigma</th>\n",
       "      <td>8.400</td>\n",
       "      <td>1.741</td>\n",
       "      <td>5.541</td>\n",
       "      <td>11.684</td>\n",
       "      <td>0.013</td>\n",
       "      <td>0.009</td>\n",
       "      <td>20005.0</td>\n",
       "      <td>15852.0</td>\n",
       "      <td>NaN</td>\n",
       "    </tr>\n",
       "    <tr>\n",
       "      <th>Years_in_School</th>\n",
       "      <td>2.009</td>\n",
       "      <td>0.510</td>\n",
       "      <td>1.020</td>\n",
       "      <td>2.940</td>\n",
       "      <td>0.003</td>\n",
       "      <td>0.002</td>\n",
       "      <td>22677.0</td>\n",
       "      <td>16208.0</td>\n",
       "      <td>NaN</td>\n",
       "    </tr>\n",
       "  </tbody>\n",
       "</table>\n",
       "</div>"
      ],
      "text/plain": [
       "                  mean     sd  hdi_3%  hdi_97%  mcse_mean  mcse_sd  ess_bulk  \\\n",
       "Intercept        7.983  7.956  -7.250   22.697      0.053    0.043   22794.0   \n",
       "Success_sigma    8.400  1.741   5.541   11.684      0.013    0.009   20005.0   \n",
       "Years_in_School  2.009  0.510   1.020    2.940      0.003    0.002   22677.0   \n",
       "\n",
       "                 ess_tail  r_hat  \n",
       "Intercept         16269.0    NaN  \n",
       "Success_sigma     15852.0    NaN  \n",
       "Years_in_School   16208.0    NaN  "
      ]
     },
     "execution_count": 19,
     "metadata": {},
     "output_type": "execute_result"
    }
   ],
   "source": [
    "az.summary(results1)"
   ]
  },
  {
   "cell_type": "code",
   "execution_count": 20,
   "id": "2de5bd49-d0b2-4d40-9c95-d21eddfe04df",
   "metadata": {},
   "outputs": [
    {
     "name": "stderr",
     "output_type": "stream",
     "text": [
      "Auto-assigning NUTS sampler...\n",
      "Initializing NUTS using jitter+adapt_diag...\n",
      "Sequential sampling (1 chains in 1 job)\n",
      "NUTS: [Success_sigma, Intercept, Grit]\n"
     ]
    },
    {
     "data": {
      "application/vnd.jupyter.widget-view+json": {
       "model_id": "3a2af7bde30f4599a73a5177f2db2fd2",
       "version_major": 2,
       "version_minor": 0
      },
      "text/plain": [
       "Output()"
      ]
     },
     "metadata": {},
     "output_type": "display_data"
    },
    {
     "data": {
      "text/html": [
       "<pre style=\"white-space:pre;overflow-x:auto;line-height:normal;font-family:Menlo,'DejaVu Sans Mono',consolas,'Courier New',monospace\"></pre>\n"
      ],
      "text/plain": []
     },
     "metadata": {},
     "output_type": "display_data"
    },
    {
     "data": {
      "text/html": [
       "<pre style=\"white-space:pre;overflow-x:auto;line-height:normal;font-family:Menlo,'DejaVu Sans Mono',consolas,'Courier New',monospace\">\n",
       "</pre>\n"
      ],
      "text/plain": [
       "\n"
      ]
     },
     "metadata": {},
     "output_type": "display_data"
    },
    {
     "name": "stderr",
     "output_type": "stream",
     "text": [
      "Sampling 1 chain for 5_000 tune and 25_000 draw iterations (5_000 + 25_000 draws total) took 13 seconds.\n",
      "Only one chain was sampled, this makes it impossible to run some convergence checks\n"
     ]
    }
   ],
   "source": [
    "model2 = bmb.Model('Success ~ Grit', data=data)\n",
    "results2 = model2.fit(draws=25000, tune=5000, chains=1)"
   ]
  },
  {
   "cell_type": "code",
   "execution_count": 21,
   "id": "b45a7cd0-7290-4a85-8b21-d963c93728fb",
   "metadata": {},
   "outputs": [
    {
     "data": {
      "image/svg+xml": [
       "<?xml version=\"1.0\" encoding=\"UTF-8\" standalone=\"no\"?>\n",
       "<!DOCTYPE svg PUBLIC \"-//W3C//DTD SVG 1.1//EN\"\n",
       " \"http://www.w3.org/Graphics/SVG/1.1/DTD/svg11.dtd\">\n",
       "<!-- Generated by graphviz version 2.43.0 (0)\n",
       " -->\n",
       "<!-- Title: %3 Pages: 1 -->\n",
       "<svg width=\"434pt\" height=\"233pt\"\n",
       " viewBox=\"0.00 0.00 434.19 232.91\" xmlns=\"http://www.w3.org/2000/svg\" xmlns:xlink=\"http://www.w3.org/1999/xlink\">\n",
       "<g id=\"graph0\" class=\"graph\" transform=\"scale(1 1) rotate(0) translate(4 228.91)\">\n",
       "<title>%3</title>\n",
       "<polygon fill=\"white\" stroke=\"transparent\" points=\"-4,4 -4,-228.91 430.19,-228.91 430.19,4 -4,4\"/>\n",
       "<g id=\"clust1\" class=\"cluster\">\n",
       "<title>clusterSuccess_obs (15)</title>\n",
       "<path fill=\"none\" stroke=\"black\" d=\"M165.69,-8C165.69,-8 279.69,-8 279.69,-8 285.69,-8 291.69,-14 291.69,-20 291.69,-20 291.69,-109.95 291.69,-109.95 291.69,-115.95 285.69,-121.95 279.69,-121.95 279.69,-121.95 165.69,-121.95 165.69,-121.95 159.69,-121.95 153.69,-115.95 153.69,-109.95 153.69,-109.95 153.69,-20 153.69,-20 153.69,-14 159.69,-8 165.69,-8\"/>\n",
       "<text text-anchor=\"middle\" x=\"222.69\" y=\"-15.8\" font-family=\"Times,serif\" font-size=\"14.00\">Success_obs (15)</text>\n",
       "</g>\n",
       "<!-- Intercept -->\n",
       "<g id=\"node1\" class=\"node\">\n",
       "<title>Intercept</title>\n",
       "<ellipse fill=\"none\" stroke=\"black\" cx=\"58.69\" cy=\"-187.43\" rx=\"58.88\" ry=\"37.45\"/>\n",
       "<text text-anchor=\"middle\" x=\"58.69\" y=\"-198.73\" font-family=\"Times,serif\" font-size=\"14.00\">Intercept</text>\n",
       "<text text-anchor=\"middle\" x=\"58.69\" y=\"-183.73\" font-family=\"Times,serif\" font-size=\"14.00\">~</text>\n",
       "<text text-anchor=\"middle\" x=\"58.69\" y=\"-168.73\" font-family=\"Times,serif\" font-size=\"14.00\">Normal</text>\n",
       "</g>\n",
       "<!-- Success -->\n",
       "<g id=\"node4\" class=\"node\">\n",
       "<title>Success</title>\n",
       "<ellipse fill=\"lightgrey\" stroke=\"black\" cx=\"222.69\" cy=\"-76.48\" rx=\"52.15\" ry=\"37.45\"/>\n",
       "<text text-anchor=\"middle\" x=\"222.69\" y=\"-87.78\" font-family=\"Times,serif\" font-size=\"14.00\">Success</text>\n",
       "<text text-anchor=\"middle\" x=\"222.69\" y=\"-72.78\" font-family=\"Times,serif\" font-size=\"14.00\">~</text>\n",
       "<text text-anchor=\"middle\" x=\"222.69\" y=\"-57.78\" font-family=\"Times,serif\" font-size=\"14.00\">Normal</text>\n",
       "</g>\n",
       "<!-- Intercept&#45;&gt;Success -->\n",
       "<g id=\"edge1\" class=\"edge\">\n",
       "<title>Intercept&#45;&gt;Success</title>\n",
       "<path fill=\"none\" stroke=\"black\" d=\"M98.81,-159.78C122.31,-144.17 152.07,-124.39 176.54,-108.14\"/>\n",
       "<polygon fill=\"black\" stroke=\"black\" points=\"178.56,-110.99 184.95,-102.55 174.69,-105.16 178.56,-110.99\"/>\n",
       "</g>\n",
       "<!-- Success_sigma -->\n",
       "<g id=\"node2\" class=\"node\">\n",
       "<title>Success_sigma</title>\n",
       "<ellipse fill=\"none\" stroke=\"black\" cx=\"222.69\" cy=\"-187.43\" rx=\"86.95\" ry=\"37.45\"/>\n",
       "<text text-anchor=\"middle\" x=\"222.69\" y=\"-198.73\" font-family=\"Times,serif\" font-size=\"14.00\">Success_sigma</text>\n",
       "<text text-anchor=\"middle\" x=\"222.69\" y=\"-183.73\" font-family=\"Times,serif\" font-size=\"14.00\">~</text>\n",
       "<text text-anchor=\"middle\" x=\"222.69\" y=\"-168.73\" font-family=\"Times,serif\" font-size=\"14.00\">HalfStudentT</text>\n",
       "</g>\n",
       "<!-- Success_sigma&#45;&gt;Success -->\n",
       "<g id=\"edge2\" class=\"edge\">\n",
       "<title>Success_sigma&#45;&gt;Success</title>\n",
       "<path fill=\"none\" stroke=\"black\" d=\"M222.69,-149.85C222.69,-141.67 222.69,-132.89 222.69,-124.37\"/>\n",
       "<polygon fill=\"black\" stroke=\"black\" points=\"226.19,-124.15 222.69,-114.15 219.19,-124.15 226.19,-124.15\"/>\n",
       "</g>\n",
       "<!-- Grit -->\n",
       "<g id=\"node3\" class=\"node\">\n",
       "<title>Grit</title>\n",
       "<ellipse fill=\"none\" stroke=\"black\" cx=\"376.69\" cy=\"-187.43\" rx=\"49.49\" ry=\"37.45\"/>\n",
       "<text text-anchor=\"middle\" x=\"376.69\" y=\"-198.73\" font-family=\"Times,serif\" font-size=\"14.00\">Grit</text>\n",
       "<text text-anchor=\"middle\" x=\"376.69\" y=\"-183.73\" font-family=\"Times,serif\" font-size=\"14.00\">~</text>\n",
       "<text text-anchor=\"middle\" x=\"376.69\" y=\"-168.73\" font-family=\"Times,serif\" font-size=\"14.00\">Normal</text>\n",
       "</g>\n",
       "<!-- Grit&#45;&gt;Success -->\n",
       "<g id=\"edge3\" class=\"edge\">\n",
       "<title>Grit&#45;&gt;Success</title>\n",
       "<path fill=\"none\" stroke=\"black\" d=\"M340.97,-161.16C319.13,-145.71 291,-125.8 267.65,-109.28\"/>\n",
       "<polygon fill=\"black\" stroke=\"black\" points=\"269.47,-106.28 259.28,-103.37 265.43,-112 269.47,-106.28\"/>\n",
       "</g>\n",
       "</g>\n",
       "</svg>\n"
      ],
      "text/plain": [
       "<graphviz.graphs.Digraph at 0x7fb360e02c90>"
      ]
     },
     "execution_count": 21,
     "metadata": {},
     "output_type": "execute_result"
    }
   ],
   "source": [
    "graphviz = pm.model_to_graphviz(model2.backend.model)\n",
    "graphviz"
   ]
  },
  {
   "cell_type": "code",
   "execution_count": null,
   "id": "010dfe06-0ff2-42da-a6f2-47dd7bfa7586",
   "metadata": {},
   "outputs": [],
   "source": []
  }
 ],
 "metadata": {
  "accelerator": "GPU",
  "colab": {
   "gpuType": "T4",
   "provenance": []
  },
  "kernelspec": {
   "display_name": "Python 3 (ipykernel)",
   "language": "python",
   "name": "python3"
  },
  "language_info": {
   "codemirror_mode": {
    "name": "ipython",
    "version": 3
   },
   "file_extension": ".py",
   "mimetype": "text/x-python",
   "name": "python",
   "nbconvert_exporter": "python",
   "pygments_lexer": "ipython3",
   "version": "3.11.9"
  }
 },
 "nbformat": 4,
 "nbformat_minor": 5
}
